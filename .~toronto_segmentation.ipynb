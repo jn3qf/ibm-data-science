{
 "metadata": {
  "language_info": {
   "codemirror_mode": {
    "name": "ipython",
    "version": 3
   },
   "file_extension": ".py",
   "mimetype": "text/x-python",
   "name": "python",
   "nbconvert_exporter": "python",
   "pygments_lexer": "ipython3",
   "version": "3.9.0-final"
  },
  "orig_nbformat": 2,
  "kernelspec": {
   "name": "python3",
   "display_name": "Python 3.9.0 64-bit",
   "metadata": {
    "interpreter": {
     "hash": "63fd5069d213b44bf678585dea6b12cceca9941eaf7f819626cde1f2670de90d"
    }
   }
  }
 },
 "nbformat": 4,
 "nbformat_minor": 2,
 "cells": [
  {
   "source": [
    "This notebook corresponds to Week 4 of the IBM Data Science Capstone, in which we find a way of clustering various neighborhoods in Toronto."
   ],
   "cell_type": "markdown",
   "metadata": {}
  },
  {
   "cell_type": "code",
   "execution_count": 13,
   "metadata": {},
   "outputs": [],
   "source": [
    "import pandas as pd\n",
    "import numpy as np\n",
    "import requests\n",
    "import json"
   ]
  },
  {
   "source": [
    "First, we read the tabulated data from the wikipedia site (https://en.wikipedia.org/wiki/List_of_postal_codes_of_Canada:_M)."
   ],
   "cell_type": "markdown",
   "metadata": {}
  },
  {
   "cell_type": "code",
   "execution_count": 14,
   "metadata": {},
   "outputs": [
    {
     "output_type": "execute_result",
     "data": {
      "text/plain": [
       "    Postal Code           Borough  \\\n",
       "0           M1A      Not assigned   \n",
       "1           M2A      Not assigned   \n",
       "2           M3A        North York   \n",
       "3           M4A        North York   \n",
       "4           M5A  Downtown Toronto   \n",
       "..          ...               ...   \n",
       "175         M5Z      Not assigned   \n",
       "176         M6Z      Not assigned   \n",
       "177         M7Z      Not assigned   \n",
       "178         M8Z         Etobicoke   \n",
       "179         M9Z      Not assigned   \n",
       "\n",
       "                                         Neighbourhood  \n",
       "0                                         Not assigned  \n",
       "1                                         Not assigned  \n",
       "2                                            Parkwoods  \n",
       "3                                     Victoria Village  \n",
       "4                            Regent Park, Harbourfront  \n",
       "..                                                 ...  \n",
       "175                                       Not assigned  \n",
       "176                                       Not assigned  \n",
       "177                                       Not assigned  \n",
       "178  Mimico NW, The Queensway West, South of Bloor,...  \n",
       "179                                       Not assigned  \n",
       "\n",
       "[180 rows x 3 columns]"
      ],
      "text/html": "<div>\n<style scoped>\n    .dataframe tbody tr th:only-of-type {\n        vertical-align: middle;\n    }\n\n    .dataframe tbody tr th {\n        vertical-align: top;\n    }\n\n    .dataframe thead th {\n        text-align: right;\n    }\n</style>\n<table border=\"1\" class=\"dataframe\">\n  <thead>\n    <tr style=\"text-align: right;\">\n      <th></th>\n      <th>Postal Code</th>\n      <th>Borough</th>\n      <th>Neighbourhood</th>\n    </tr>\n  </thead>\n  <tbody>\n    <tr>\n      <th>0</th>\n      <td>M1A</td>\n      <td>Not assigned</td>\n      <td>Not assigned</td>\n    </tr>\n    <tr>\n      <th>1</th>\n      <td>M2A</td>\n      <td>Not assigned</td>\n      <td>Not assigned</td>\n    </tr>\n    <tr>\n      <th>2</th>\n      <td>M3A</td>\n      <td>North York</td>\n      <td>Parkwoods</td>\n    </tr>\n    <tr>\n      <th>3</th>\n      <td>M4A</td>\n      <td>North York</td>\n      <td>Victoria Village</td>\n    </tr>\n    <tr>\n      <th>4</th>\n      <td>M5A</td>\n      <td>Downtown Toronto</td>\n      <td>Regent Park, Harbourfront</td>\n    </tr>\n    <tr>\n      <th>...</th>\n      <td>...</td>\n      <td>...</td>\n      <td>...</td>\n    </tr>\n    <tr>\n      <th>175</th>\n      <td>M5Z</td>\n      <td>Not assigned</td>\n      <td>Not assigned</td>\n    </tr>\n    <tr>\n      <th>176</th>\n      <td>M6Z</td>\n      <td>Not assigned</td>\n      <td>Not assigned</td>\n    </tr>\n    <tr>\n      <th>177</th>\n      <td>M7Z</td>\n      <td>Not assigned</td>\n      <td>Not assigned</td>\n    </tr>\n    <tr>\n      <th>178</th>\n      <td>M8Z</td>\n      <td>Etobicoke</td>\n      <td>Mimico NW, The Queensway West, South of Bloor,...</td>\n    </tr>\n    <tr>\n      <th>179</th>\n      <td>M9Z</td>\n      <td>Not assigned</td>\n      <td>Not assigned</td>\n    </tr>\n  </tbody>\n</table>\n<p>180 rows × 3 columns</p>\n</div>"
     },
     "metadata": {},
     "execution_count": 14
    }
   ],
   "source": [
    "df = pd.read_html('https://en.wikipedia.org/wiki/List_of_postal_codes_of_Canada:_M', flavor='bs4')[0]\n",
    "df"
   ]
  },
  {
   "source": [
    "Drop any rows that have \"Not Assigned\" as a value for borough, and assign `neighborhood=borough` for rows with a value for \"Not assigned\" only for the neighborhood."
   ],
   "cell_type": "markdown",
   "metadata": {}
  },
  {
   "cell_type": "code",
   "execution_count": 15,
   "metadata": {},
   "outputs": [
    {
     "output_type": "execute_result",
     "data": {
      "text/plain": [
       "    Postal Code           Borough  \\\n",
       "0           M3A        North York   \n",
       "1           M4A        North York   \n",
       "2           M5A  Downtown Toronto   \n",
       "3           M6A        North York   \n",
       "4           M7A  Downtown Toronto   \n",
       "..          ...               ...   \n",
       "98          M8X         Etobicoke   \n",
       "99          M4Y  Downtown Toronto   \n",
       "100         M7Y      East Toronto   \n",
       "101         M8Y         Etobicoke   \n",
       "102         M8Z         Etobicoke   \n",
       "\n",
       "                                         Neighbourhood  \n",
       "0                                            Parkwoods  \n",
       "1                                     Victoria Village  \n",
       "2                            Regent Park, Harbourfront  \n",
       "3                     Lawrence Manor, Lawrence Heights  \n",
       "4          Queen's Park, Ontario Provincial Government  \n",
       "..                                                 ...  \n",
       "98       The Kingsway, Montgomery Road, Old Mill North  \n",
       "99                                Church and Wellesley  \n",
       "100  Business reply mail Processing Centre, South C...  \n",
       "101  Old Mill South, King's Mill Park, Sunnylea, Hu...  \n",
       "102  Mimico NW, The Queensway West, South of Bloor,...  \n",
       "\n",
       "[103 rows x 3 columns]"
      ],
      "text/html": "<div>\n<style scoped>\n    .dataframe tbody tr th:only-of-type {\n        vertical-align: middle;\n    }\n\n    .dataframe tbody tr th {\n        vertical-align: top;\n    }\n\n    .dataframe thead th {\n        text-align: right;\n    }\n</style>\n<table border=\"1\" class=\"dataframe\">\n  <thead>\n    <tr style=\"text-align: right;\">\n      <th></th>\n      <th>Postal Code</th>\n      <th>Borough</th>\n      <th>Neighbourhood</th>\n    </tr>\n  </thead>\n  <tbody>\n    <tr>\n      <th>0</th>\n      <td>M3A</td>\n      <td>North York</td>\n      <td>Parkwoods</td>\n    </tr>\n    <tr>\n      <th>1</th>\n      <td>M4A</td>\n      <td>North York</td>\n      <td>Victoria Village</td>\n    </tr>\n    <tr>\n      <th>2</th>\n      <td>M5A</td>\n      <td>Downtown Toronto</td>\n      <td>Regent Park, Harbourfront</td>\n    </tr>\n    <tr>\n      <th>3</th>\n      <td>M6A</td>\n      <td>North York</td>\n      <td>Lawrence Manor, Lawrence Heights</td>\n    </tr>\n    <tr>\n      <th>4</th>\n      <td>M7A</td>\n      <td>Downtown Toronto</td>\n      <td>Queen's Park, Ontario Provincial Government</td>\n    </tr>\n    <tr>\n      <th>...</th>\n      <td>...</td>\n      <td>...</td>\n      <td>...</td>\n    </tr>\n    <tr>\n      <th>98</th>\n      <td>M8X</td>\n      <td>Etobicoke</td>\n      <td>The Kingsway, Montgomery Road, Old Mill North</td>\n    </tr>\n    <tr>\n      <th>99</th>\n      <td>M4Y</td>\n      <td>Downtown Toronto</td>\n      <td>Church and Wellesley</td>\n    </tr>\n    <tr>\n      <th>100</th>\n      <td>M7Y</td>\n      <td>East Toronto</td>\n      <td>Business reply mail Processing Centre, South C...</td>\n    </tr>\n    <tr>\n      <th>101</th>\n      <td>M8Y</td>\n      <td>Etobicoke</td>\n      <td>Old Mill South, King's Mill Park, Sunnylea, Hu...</td>\n    </tr>\n    <tr>\n      <th>102</th>\n      <td>M8Z</td>\n      <td>Etobicoke</td>\n      <td>Mimico NW, The Queensway West, South of Bloor,...</td>\n    </tr>\n  </tbody>\n</table>\n<p>103 rows × 3 columns</p>\n</div>"
     },
     "metadata": {},
     "execution_count": 15
    }
   ],
   "source": [
    "# ~(df[['Borough']] == 'Not assigned').any(axis=1)\n",
    "df = df.loc[~(df[['Borough']] == 'Not assigned').any(axis=1), :].reset_index(drop=True)\n",
    "no_neighborhood = df['Neighbourhood'] == 'Not assigned'\n",
    "df.loc[no_neighborhood, 'Neighbourhood'] = df.loc[no_neighborhood, 'Borough']\n",
    "df"
   ]
  },
  {
   "cell_type": "code",
   "execution_count": 16,
   "metadata": {},
   "outputs": [
    {
     "output_type": "execute_result",
     "data": {
      "text/plain": [
       "             Borough  Neighbourhood\n",
       "Postal Code                        \n",
       "M1B                1              1\n",
       "M1C                1              1\n",
       "M1E                1              1\n",
       "M1G                1              1\n",
       "M1H                1              1\n",
       "...              ...            ...\n",
       "M9N                1              1\n",
       "M9P                1              1\n",
       "M9R                1              1\n",
       "M9V                1              1\n",
       "M9W                1              1\n",
       "\n",
       "[103 rows x 2 columns]"
      ],
      "text/html": "<div>\n<style scoped>\n    .dataframe tbody tr th:only-of-type {\n        vertical-align: middle;\n    }\n\n    .dataframe tbody tr th {\n        vertical-align: top;\n    }\n\n    .dataframe thead th {\n        text-align: right;\n    }\n</style>\n<table border=\"1\" class=\"dataframe\">\n  <thead>\n    <tr style=\"text-align: right;\">\n      <th></th>\n      <th>Borough</th>\n      <th>Neighbourhood</th>\n    </tr>\n    <tr>\n      <th>Postal Code</th>\n      <th></th>\n      <th></th>\n    </tr>\n  </thead>\n  <tbody>\n    <tr>\n      <th>M1B</th>\n      <td>1</td>\n      <td>1</td>\n    </tr>\n    <tr>\n      <th>M1C</th>\n      <td>1</td>\n      <td>1</td>\n    </tr>\n    <tr>\n      <th>M1E</th>\n      <td>1</td>\n      <td>1</td>\n    </tr>\n    <tr>\n      <th>M1G</th>\n      <td>1</td>\n      <td>1</td>\n    </tr>\n    <tr>\n      <th>M1H</th>\n      <td>1</td>\n      <td>1</td>\n    </tr>\n    <tr>\n      <th>...</th>\n      <td>...</td>\n      <td>...</td>\n    </tr>\n    <tr>\n      <th>M9N</th>\n      <td>1</td>\n      <td>1</td>\n    </tr>\n    <tr>\n      <th>M9P</th>\n      <td>1</td>\n      <td>1</td>\n    </tr>\n    <tr>\n      <th>M9R</th>\n      <td>1</td>\n      <td>1</td>\n    </tr>\n    <tr>\n      <th>M9V</th>\n      <td>1</td>\n      <td>1</td>\n    </tr>\n    <tr>\n      <th>M9W</th>\n      <td>1</td>\n      <td>1</td>\n    </tr>\n  </tbody>\n</table>\n<p>103 rows × 2 columns</p>\n</div>"
     },
     "metadata": {},
     "execution_count": 16
    }
   ],
   "source": [
    "df.groupby('Postal Code').count()"
   ]
  },
  {
   "source": [
    "Since the number of rows returned by `df.groupby('Postal Code').count()` matches the number of rows that we previously had, there aren't any duplicated postal codes in the table. Our preprocessing is done for now. Next, we geocode each postalcode using the geocoder package."
   ],
   "cell_type": "markdown",
   "metadata": {}
  },
  {
   "cell_type": "code",
   "execution_count": 17,
   "metadata": {},
   "outputs": [
    {
     "output_type": "execute_result",
     "data": {
      "text/plain": [
       "    Postal Code           Borough  \\\n",
       "0           M3A        North York   \n",
       "1           M4A        North York   \n",
       "2           M5A  Downtown Toronto   \n",
       "3           M6A        North York   \n",
       "4           M7A  Downtown Toronto   \n",
       "..          ...               ...   \n",
       "98          M8X         Etobicoke   \n",
       "99          M4Y  Downtown Toronto   \n",
       "100         M7Y      East Toronto   \n",
       "101         M8Y         Etobicoke   \n",
       "102         M8Z         Etobicoke   \n",
       "\n",
       "                                         Neighbourhood   Latitude  Longitude  \n",
       "0                                            Parkwoods  43.753259 -79.329656  \n",
       "1                                     Victoria Village  43.725882 -79.315572  \n",
       "2                            Regent Park, Harbourfront  43.654260 -79.360636  \n",
       "3                     Lawrence Manor, Lawrence Heights  43.718518 -79.464763  \n",
       "4          Queen's Park, Ontario Provincial Government  43.662301 -79.389494  \n",
       "..                                                 ...        ...        ...  \n",
       "98       The Kingsway, Montgomery Road, Old Mill North  43.653654 -79.506944  \n",
       "99                                Church and Wellesley  43.665860 -79.383160  \n",
       "100  Business reply mail Processing Centre, South C...  43.662744 -79.321558  \n",
       "101  Old Mill South, King's Mill Park, Sunnylea, Hu...  43.636258 -79.498509  \n",
       "102  Mimico NW, The Queensway West, South of Bloor,...  43.628841 -79.520999  \n",
       "\n",
       "[103 rows x 5 columns]"
      ],
      "text/html": "<div>\n<style scoped>\n    .dataframe tbody tr th:only-of-type {\n        vertical-align: middle;\n    }\n\n    .dataframe tbody tr th {\n        vertical-align: top;\n    }\n\n    .dataframe thead th {\n        text-align: right;\n    }\n</style>\n<table border=\"1\" class=\"dataframe\">\n  <thead>\n    <tr style=\"text-align: right;\">\n      <th></th>\n      <th>Postal Code</th>\n      <th>Borough</th>\n      <th>Neighbourhood</th>\n      <th>Latitude</th>\n      <th>Longitude</th>\n    </tr>\n  </thead>\n  <tbody>\n    <tr>\n      <th>0</th>\n      <td>M3A</td>\n      <td>North York</td>\n      <td>Parkwoods</td>\n      <td>43.753259</td>\n      <td>-79.329656</td>\n    </tr>\n    <tr>\n      <th>1</th>\n      <td>M4A</td>\n      <td>North York</td>\n      <td>Victoria Village</td>\n      <td>43.725882</td>\n      <td>-79.315572</td>\n    </tr>\n    <tr>\n      <th>2</th>\n      <td>M5A</td>\n      <td>Downtown Toronto</td>\n      <td>Regent Park, Harbourfront</td>\n      <td>43.654260</td>\n      <td>-79.360636</td>\n    </tr>\n    <tr>\n      <th>3</th>\n      <td>M6A</td>\n      <td>North York</td>\n      <td>Lawrence Manor, Lawrence Heights</td>\n      <td>43.718518</td>\n      <td>-79.464763</td>\n    </tr>\n    <tr>\n      <th>4</th>\n      <td>M7A</td>\n      <td>Downtown Toronto</td>\n      <td>Queen's Park, Ontario Provincial Government</td>\n      <td>43.662301</td>\n      <td>-79.389494</td>\n    </tr>\n    <tr>\n      <th>...</th>\n      <td>...</td>\n      <td>...</td>\n      <td>...</td>\n      <td>...</td>\n      <td>...</td>\n    </tr>\n    <tr>\n      <th>98</th>\n      <td>M8X</td>\n      <td>Etobicoke</td>\n      <td>The Kingsway, Montgomery Road, Old Mill North</td>\n      <td>43.653654</td>\n      <td>-79.506944</td>\n    </tr>\n    <tr>\n      <th>99</th>\n      <td>M4Y</td>\n      <td>Downtown Toronto</td>\n      <td>Church and Wellesley</td>\n      <td>43.665860</td>\n      <td>-79.383160</td>\n    </tr>\n    <tr>\n      <th>100</th>\n      <td>M7Y</td>\n      <td>East Toronto</td>\n      <td>Business reply mail Processing Centre, South C...</td>\n      <td>43.662744</td>\n      <td>-79.321558</td>\n    </tr>\n    <tr>\n      <th>101</th>\n      <td>M8Y</td>\n      <td>Etobicoke</td>\n      <td>Old Mill South, King's Mill Park, Sunnylea, Hu...</td>\n      <td>43.636258</td>\n      <td>-79.498509</td>\n    </tr>\n    <tr>\n      <th>102</th>\n      <td>M8Z</td>\n      <td>Etobicoke</td>\n      <td>Mimico NW, The Queensway West, South of Bloor,...</td>\n      <td>43.628841</td>\n      <td>-79.520999</td>\n    </tr>\n  </tbody>\n</table>\n<p>103 rows × 5 columns</p>\n</div>"
     },
     "metadata": {},
     "execution_count": 17
    }
   ],
   "source": [
    "coordinates_df = pd.read_csv('https://cocl.us/Geospatial_data')\n",
    "df = df.merge(coordinates_df, how='left', on='Postal Code')\n",
    "df"
   ]
  },
  {
   "source": [
    "Next, we get venue information for each neighborhood using foursquare. We use the Explore function (which provides recommended venues/venues of interest as opposed to just the nearest venues), with a radius of 1.1 km per neighborhood and a search limit of 150 venues per neighborhood."
   ],
   "cell_type": "markdown",
   "metadata": {}
  },
  {
   "cell_type": "code",
   "execution_count": 18,
   "metadata": {
    "tags": []
   },
   "outputs": [
    {
     "output_type": "stream",
     "name": "stdout",
     "text": [
      "Current Neighborhood(s): Parkwoods\n",
      "Current Neighborhood(s): Victoria Village\n",
      "Current Neighborhood(s): Regent Park, Harbourfront\n",
      "Current Neighborhood(s): Lawrence Manor, Lawrence Heights\n",
      "Current Neighborhood(s): Queen's Park, Ontario Provincial Government\n",
      "Current Neighborhood(s): Islington Avenue, Humber Valley Village\n",
      "Current Neighborhood(s): Malvern, Rouge\n",
      "Current Neighborhood(s): Don Mills\n",
      "Current Neighborhood(s): Parkview Hill, Woodbine Gardens\n",
      "Current Neighborhood(s): Garden District, Ryerson\n",
      "Current Neighborhood(s): Glencairn\n",
      "Current Neighborhood(s): West Deane Park, Princess Gardens, Martin Grove, Islington, Cloverdale\n",
      "Current Neighborhood(s): Rouge Hill, Port Union, Highland Creek\n",
      "Current Neighborhood(s): Don Mills\n",
      "Current Neighborhood(s): Woodbine Heights\n",
      "Current Neighborhood(s): St. James Town\n",
      "Current Neighborhood(s): Humewood-Cedarvale\n",
      "Current Neighborhood(s): Eringate, Bloordale Gardens, Old Burnhamthorpe, Markland Wood\n",
      "Current Neighborhood(s): Guildwood, Morningside, West Hill\n",
      "Current Neighborhood(s): The Beaches\n",
      "Current Neighborhood(s): Berczy Park\n",
      "Current Neighborhood(s): Caledonia-Fairbanks\n",
      "Current Neighborhood(s): Woburn\n",
      "Current Neighborhood(s): Leaside\n",
      "Current Neighborhood(s): Central Bay Street\n",
      "Current Neighborhood(s): Christie\n",
      "Current Neighborhood(s): Cedarbrae\n",
      "Current Neighborhood(s): Hillcrest Village\n",
      "Current Neighborhood(s): Bathurst Manor, Wilson Heights, Downsview North\n",
      "Current Neighborhood(s): Thorncliffe Park\n",
      "Current Neighborhood(s): Richmond, Adelaide, King\n",
      "Current Neighborhood(s): Dufferin, Dovercourt Village\n",
      "Current Neighborhood(s): Scarborough Village\n",
      "Current Neighborhood(s): Fairview, Henry Farm, Oriole\n",
      "Current Neighborhood(s): Northwood Park, York University\n",
      "Current Neighborhood(s): East Toronto, Broadview North (Old East York)\n",
      "Current Neighborhood(s): Harbourfront East, Union Station, Toronto Islands\n",
      "Current Neighborhood(s): Little Portugal, Trinity\n",
      "Current Neighborhood(s): Kennedy Park, Ionview, East Birchmount Park\n",
      "Current Neighborhood(s): Bayview Village\n",
      "Current Neighborhood(s): Downsview\n",
      "Current Neighborhood(s): The Danforth West, Riverdale\n",
      "Current Neighborhood(s): Toronto Dominion Centre, Design Exchange\n",
      "Current Neighborhood(s): Brockton, Parkdale Village, Exhibition Place\n",
      "Current Neighborhood(s): Golden Mile, Clairlea, Oakridge\n",
      "Current Neighborhood(s): York Mills, Silver Hills\n",
      "Current Neighborhood(s): Downsview\n",
      "Current Neighborhood(s): India Bazaar, The Beaches West\n",
      "Current Neighborhood(s): Commerce Court, Victoria Hotel\n",
      "Current Neighborhood(s): North Park, Maple Leaf Park, Upwood Park\n",
      "Current Neighborhood(s): Humber Summit\n",
      "Current Neighborhood(s): Cliffside, Cliffcrest, Scarborough Village West\n",
      "Current Neighborhood(s): Willowdale, Newtonbrook\n",
      "Current Neighborhood(s): Downsview\n",
      "Current Neighborhood(s): Studio District\n",
      "Current Neighborhood(s): Bedford Park, Lawrence Manor East\n",
      "Current Neighborhood(s): Del Ray, Mount Dennis, Keelsdale and Silverthorn\n",
      "Current Neighborhood(s): Humberlea, Emery\n",
      "Current Neighborhood(s): Birch Cliff, Cliffside West\n",
      "Current Neighborhood(s): Willowdale, Willowdale East\n",
      "Current Neighborhood(s): Downsview\n",
      "Current Neighborhood(s): Lawrence Park\n",
      "Current Neighborhood(s): Roselawn\n",
      "Current Neighborhood(s): Runnymede, The Junction North\n",
      "Current Neighborhood(s): Weston\n",
      "Current Neighborhood(s): Dorset Park, Wexford Heights, Scarborough Town Centre\n",
      "Current Neighborhood(s): York Mills West\n",
      "Current Neighborhood(s): Davisville North\n",
      "Current Neighborhood(s): Forest Hill North & West, Forest Hill Road Park\n",
      "Current Neighborhood(s): High Park, The Junction South\n",
      "Current Neighborhood(s): Westmount\n",
      "Current Neighborhood(s): Wexford, Maryvale\n",
      "Current Neighborhood(s): Willowdale, Willowdale West\n",
      "Current Neighborhood(s): North Toronto West, Lawrence Park\n",
      "Current Neighborhood(s): The Annex, North Midtown, Yorkville\n",
      "Current Neighborhood(s): Parkdale, Roncesvalles\n",
      "Current Neighborhood(s): Canada Post Gateway Processing Centre\n",
      "Current Neighborhood(s): Kingsview Village, St. Phillips, Martin Grove Gardens, Richview Gardens\n",
      "Current Neighborhood(s): Agincourt\n",
      "Current Neighborhood(s): Davisville\n",
      "Current Neighborhood(s): University of Toronto, Harbord\n",
      "Current Neighborhood(s): Runnymede, Swansea\n",
      "Current Neighborhood(s): Clarks Corners, Tam O'Shanter, Sullivan\n",
      "Current Neighborhood(s): Moore Park, Summerhill East\n",
      "Current Neighborhood(s): Kensington Market, Chinatown, Grange Park\n",
      "Current Neighborhood(s): Milliken, Agincourt North, Steeles East, L'Amoreaux East\n",
      "Current Neighborhood(s): Summerhill West, Rathnelly, South Hill, Forest Hill SE, Deer Park\n",
      "Current Neighborhood(s): CN Tower, King and Spadina, Railway Lands, Harbourfront West, Bathurst Quay, South Niagara, Island airport\n",
      "Current Neighborhood(s): New Toronto, Mimico South, Humber Bay Shores\n",
      "Current Neighborhood(s): South Steeles, Silverstone, Humbergate, Jamestown, Mount Olive, Beaumond Heights, Thistletown, Albion Gardens\n",
      "Current Neighborhood(s): Steeles West, L'Amoreaux West\n",
      "Current Neighborhood(s): Rosedale\n",
      "Current Neighborhood(s): Stn A PO Boxes\n",
      "Current Neighborhood(s): Alderwood, Long Branch\n",
      "Current Neighborhood(s): Northwest, West Humber - Clairville\n",
      "Current Neighborhood(s): Upper Rouge\n",
      "Current Neighborhood(s): St. James Town, Cabbagetown\n",
      "Current Neighborhood(s): First Canadian Place, Underground city\n",
      "Current Neighborhood(s): The Kingsway, Montgomery Road, Old Mill North\n",
      "Current Neighborhood(s): Church and Wellesley\n",
      "Current Neighborhood(s): Business reply mail Processing Centre, South Central Letter Processing Plant Toronto\n",
      "Current Neighborhood(s): Old Mill South, King's Mill Park, Sunnylea, Humber Bay, Mimico NE, The Queensway East, Royal York South East, Kingsway Park South East\n",
      "Current Neighborhood(s): Mimico NW, The Queensway West, South of Bloor, Kingsway Park South West, Royal York South West\n",
      "(5381, 7)\n"
     ]
    },
    {
     "output_type": "execute_result",
     "data": {
      "text/plain": [
       "   postal_code                                       neighborhood  \\\n",
       "0          M3A                                          Parkwoods   \n",
       "1          M3A                                          Parkwoods   \n",
       "2          M3A                                          Parkwoods   \n",
       "3          M3A                                          Parkwoods   \n",
       "4          M3A                                          Parkwoods   \n",
       "..         ...                                                ...   \n",
       "63         M8Z  Mimico NW, The Queensway West, South of Bloor,...   \n",
       "64         M8Z  Mimico NW, The Queensway West, South of Bloor,...   \n",
       "65         M8Z  Mimico NW, The Queensway West, South of Bloor,...   \n",
       "66         M8Z  Mimico NW, The Queensway West, South of Bloor,...   \n",
       "67         M8Z  Mimico NW, The Queensway West, South of Bloor,...   \n",
       "\n",
       "                          id                         name        categories  \\\n",
       "0   4b8991cbf964a520814232e3              Allwyn's Bakery         Caribbean   \n",
       "1   57e286f2498e43d84d92d34a                  Tim Hortons              Café   \n",
       "2   4bd4846a6798ef3bd0c5618d  Donalda Golf & Country Club       Golf Course   \n",
       "3   4e8d9dcdd5fbbbb6b3003c7b              Brookbanks Park              Park   \n",
       "4   4bafa285f964a5203a123ce3            Bruno's valu-mart     Grocery Store   \n",
       "..                       ...                          ...               ...   \n",
       "63  4da389fa7ccc816eda467f7b                Soccer Season    Sporting Goods   \n",
       "64  4e126755b61c637b97b67af4     Ancom Chinese Restaurant           Chinese   \n",
       "65  4d0408907d9ba35d83856323   King's Garden Banquet Hall       Event Space   \n",
       "66  5168805f498e3e17af3260a8                          Zam  Eastern European   \n",
       "67  4c61829c13791b8d961d52af          Viking Fish & Chips             Diner   \n",
       "\n",
       "    location.lat  location.lng  \n",
       "0      43.759840    -79.324719  \n",
       "1      43.760668    -79.326368  \n",
       "2      43.752816    -79.342741  \n",
       "3      43.751976    -79.332140  \n",
       "4      43.746143    -79.324630  \n",
       "..           ...           ...  \n",
       "63     43.624862    -79.509344  \n",
       "64     43.624481    -79.509448  \n",
       "65     43.622929    -79.510698  \n",
       "66     43.620798    -79.528265  \n",
       "67     43.625137    -79.508407  \n",
       "\n",
       "[5381 rows x 7 columns]"
      ],
      "text/html": "<div>\n<style scoped>\n    .dataframe tbody tr th:only-of-type {\n        vertical-align: middle;\n    }\n\n    .dataframe tbody tr th {\n        vertical-align: top;\n    }\n\n    .dataframe thead th {\n        text-align: right;\n    }\n</style>\n<table border=\"1\" class=\"dataframe\">\n  <thead>\n    <tr style=\"text-align: right;\">\n      <th></th>\n      <th>postal_code</th>\n      <th>neighborhood</th>\n      <th>id</th>\n      <th>name</th>\n      <th>categories</th>\n      <th>location.lat</th>\n      <th>location.lng</th>\n    </tr>\n  </thead>\n  <tbody>\n    <tr>\n      <th>0</th>\n      <td>M3A</td>\n      <td>Parkwoods</td>\n      <td>4b8991cbf964a520814232e3</td>\n      <td>Allwyn's Bakery</td>\n      <td>Caribbean</td>\n      <td>43.759840</td>\n      <td>-79.324719</td>\n    </tr>\n    <tr>\n      <th>1</th>\n      <td>M3A</td>\n      <td>Parkwoods</td>\n      <td>57e286f2498e43d84d92d34a</td>\n      <td>Tim Hortons</td>\n      <td>Café</td>\n      <td>43.760668</td>\n      <td>-79.326368</td>\n    </tr>\n    <tr>\n      <th>2</th>\n      <td>M3A</td>\n      <td>Parkwoods</td>\n      <td>4bd4846a6798ef3bd0c5618d</td>\n      <td>Donalda Golf &amp; Country Club</td>\n      <td>Golf Course</td>\n      <td>43.752816</td>\n      <td>-79.342741</td>\n    </tr>\n    <tr>\n      <th>3</th>\n      <td>M3A</td>\n      <td>Parkwoods</td>\n      <td>4e8d9dcdd5fbbbb6b3003c7b</td>\n      <td>Brookbanks Park</td>\n      <td>Park</td>\n      <td>43.751976</td>\n      <td>-79.332140</td>\n    </tr>\n    <tr>\n      <th>4</th>\n      <td>M3A</td>\n      <td>Parkwoods</td>\n      <td>4bafa285f964a5203a123ce3</td>\n      <td>Bruno's valu-mart</td>\n      <td>Grocery Store</td>\n      <td>43.746143</td>\n      <td>-79.324630</td>\n    </tr>\n    <tr>\n      <th>...</th>\n      <td>...</td>\n      <td>...</td>\n      <td>...</td>\n      <td>...</td>\n      <td>...</td>\n      <td>...</td>\n      <td>...</td>\n    </tr>\n    <tr>\n      <th>63</th>\n      <td>M8Z</td>\n      <td>Mimico NW, The Queensway West, South of Bloor,...</td>\n      <td>4da389fa7ccc816eda467f7b</td>\n      <td>Soccer Season</td>\n      <td>Sporting Goods</td>\n      <td>43.624862</td>\n      <td>-79.509344</td>\n    </tr>\n    <tr>\n      <th>64</th>\n      <td>M8Z</td>\n      <td>Mimico NW, The Queensway West, South of Bloor,...</td>\n      <td>4e126755b61c637b97b67af4</td>\n      <td>Ancom Chinese Restaurant</td>\n      <td>Chinese</td>\n      <td>43.624481</td>\n      <td>-79.509448</td>\n    </tr>\n    <tr>\n      <th>65</th>\n      <td>M8Z</td>\n      <td>Mimico NW, The Queensway West, South of Bloor,...</td>\n      <td>4d0408907d9ba35d83856323</td>\n      <td>King's Garden Banquet Hall</td>\n      <td>Event Space</td>\n      <td>43.622929</td>\n      <td>-79.510698</td>\n    </tr>\n    <tr>\n      <th>66</th>\n      <td>M8Z</td>\n      <td>Mimico NW, The Queensway West, South of Bloor,...</td>\n      <td>5168805f498e3e17af3260a8</td>\n      <td>Zam</td>\n      <td>Eastern European</td>\n      <td>43.620798</td>\n      <td>-79.528265</td>\n    </tr>\n    <tr>\n      <th>67</th>\n      <td>M8Z</td>\n      <td>Mimico NW, The Queensway West, South of Bloor,...</td>\n      <td>4c61829c13791b8d961d52af</td>\n      <td>Viking Fish &amp; Chips</td>\n      <td>Diner</td>\n      <td>43.625137</td>\n      <td>-79.508407</td>\n    </tr>\n  </tbody>\n</table>\n<p>5381 rows × 7 columns</p>\n</div>"
     },
     "metadata": {},
     "execution_count": 18
    }
   ],
   "source": [
    "#search query parameters\n",
    "CLIENT_ID = 'KVW5PYILN4Y1TKDPIYGKJQHWP1LBWGIBSWWNG2HA1VBWNY2V'\n",
    "CLIENT_SECRET = 'W3N00Z502D52M1MRGWT0QGYSIRD0K1BTJ2YHC5IQHTQ224KY'\n",
    "LIMIT = 150\n",
    "RADIUS = 1100\n",
    "version = '20201214'\n",
    "\n",
    "def get_category(obj):\n",
    "    if len(obj) == 0:\n",
    "        return 'None'\n",
    "    return obj[0]['shortName']\n",
    "\n",
    "def get_neighborhood_venues(code, neighborhood, lat, long):\n",
    "    print('Current Neighborhood(s): {}'.format(neighborhood))\n",
    "    payload = {\n",
    "        'client_id': CLIENT_ID,\n",
    "        'client_secret': CLIENT_SECRET,\n",
    "        'll': '{},{}'.format(lat, long), \n",
    "        'radius': RADIUS, \n",
    "        'v': version, \n",
    "        'limit': LIMIT,\n",
    "    }\n",
    "    response = requests.get('https://api.foursquare.com/v2/venues/explore', params=payload).json()\n",
    "    df = pd.json_normalize(response['response']['groups'][0]['items'])\n",
    "    df.columns = [header.replace('venue.', '') for header in df.columns]\n",
    "    relevant_categories = ['postal_code', 'neighborhood', 'id', 'name', 'categories', 'location.lat', 'location.lng']\n",
    "    df['postal_code'] = code\n",
    "    df['neighborhood'] = neighborhood\n",
    "    df['categories'] = df['categories'].apply(lambda j: get_category(j))\n",
    "    df = df[df['categories'] != 'Moving Target']\n",
    "    df = df[relevant_categories]\n",
    "    return df\n",
    "\n",
    "venues_list = [get_neighborhood_venues(row._1, row.Neighbourhood, row.Latitude, row.Longitude) for row in df.itertuples()]\n",
    "combined_df = pd.concat(venues_list, axis=0)\n",
    "print(combined_df.shape)\n",
    "combined_df"
   ]
  },
  {
   "source": [
    "Now that we have the data, let's see how many unique categories our venues encompass:"
   ],
   "cell_type": "markdown",
   "metadata": {}
  },
  {
   "cell_type": "code",
   "execution_count": 19,
   "metadata": {},
   "outputs": [
    {
     "output_type": "execute_result",
     "data": {
      "text/plain": [
       "(334,)"
      ]
     },
     "metadata": {},
     "execution_count": 19
    }
   ],
   "source": [
    "combined_df['categories'].unique().shape"
   ]
  },
  {
   "source": [
    "Next, let's drop any venues with a category of \"None\" and any venues within a category that has less than 5 total venues (therefore only keeping venues that have a decent amount of represenation in the dataset.)"
   ],
   "cell_type": "markdown",
   "metadata": {}
  },
  {
   "cell_type": "code",
   "execution_count": 20,
   "metadata": {},
   "outputs": [
    {
     "output_type": "execute_result",
     "data": {
      "text/plain": [
       "(155,)"
      ]
     },
     "metadata": {},
     "execution_count": 20
    }
   ],
   "source": [
    "combined_df = combined_df[combined_df['categories']!='None']\n",
    "count_df = combined_df.groupby('categories').count()\n",
    "count_common = count_df[count_df['id'] > 5].index.values\n",
    "count_common.shape\n"
   ]
  },
  {
   "cell_type": "code",
   "execution_count": 21,
   "metadata": {},
   "outputs": [
    {
     "output_type": "execute_result",
     "data": {
      "text/plain": [
       "(4971, 7)"
      ]
     },
     "metadata": {},
     "execution_count": 21
    }
   ],
   "source": [
    "common_df = combined_df.loc[combined_df['categories'].isin(count_common), :]\n",
    "common_df.shape"
   ]
  },
  {
   "source": [
    "Great, we've nearly halved the number of features and reduced the size of our dataset by about 7%! Now, let's turn the categories into one-hot columns."
   ],
   "cell_type": "markdown",
   "metadata": {}
  },
  {
   "cell_type": "code",
   "execution_count": 22,
   "metadata": {},
   "outputs": [
    {
     "output_type": "stream",
     "name": "stdout",
     "text": [
      "(4971, 159)\n"
     ]
    },
    {
     "output_type": "execute_result",
     "data": {
      "text/plain": [
       "   postal_code                         name  location.lat  location.lng  \\\n",
       "0          M3A              Allwyn's Bakery     43.759840    -79.324719   \n",
       "1          M3A                  Tim Hortons     43.760668    -79.326368   \n",
       "2          M3A  Donalda Golf & Country Club     43.752816    -79.342741   \n",
       "3          M3A              Brookbanks Park     43.751976    -79.332140   \n",
       "4          M3A            Bruno's valu-mart     43.746143    -79.324630   \n",
       "..         ...                          ...           ...           ...   \n",
       "62         M8Z            Buns Masterbakery     43.633880    -79.531686   \n",
       "63         M8Z                Soccer Season     43.624862    -79.509344   \n",
       "64         M8Z     Ancom Chinese Restaurant     43.624481    -79.509448   \n",
       "66         M8Z                          Zam     43.620798    -79.528265   \n",
       "67         M8Z          Viking Fish & Chips     43.625137    -79.508407   \n",
       "\n",
       "    American  Apparel  ArtGallery  Arts&Crafts  Asian  Athletics&Sports  ...  \\\n",
       "0          0        0           0            0      0                 0  ...   \n",
       "1          0        0           0            0      0                 0  ...   \n",
       "2          0        0           0            0      0                 0  ...   \n",
       "3          0        0           0            0      0                 0  ...   \n",
       "4          0        0           0            0      0                 0  ...   \n",
       "..       ...      ...         ...          ...    ...               ...  ...   \n",
       "62         0        0           0            0      0                 0  ...   \n",
       "63         0        0           0            0      0                 0  ...   \n",
       "64         0        0           0            0      0                 0  ...   \n",
       "66         0        0           0            0      0                 0  ...   \n",
       "67         0        0           0            0      0                 0  ...   \n",
       "\n",
       "    Thrift/Vintage  Toys&Games  Trail  TrainStation  Turkish  \\\n",
       "0                0           0      0             0        0   \n",
       "1                0           0      0             0        0   \n",
       "2                0           0      0             0        0   \n",
       "3                0           0      0             0        0   \n",
       "4                0           0      0             0        0   \n",
       "..             ...         ...    ...           ...      ...   \n",
       "62               0           0      0             0        0   \n",
       "63               0           0      0             0        0   \n",
       "64               0           0      0             0        0   \n",
       "66               0           0      0             0        0   \n",
       "67               0           0      0             0        0   \n",
       "\n",
       "    Vegetarian/Vegan  Vietnamese  WineBar  Wings  YogaStudio  \n",
       "0                  0           0        0      0           0  \n",
       "1                  0           0        0      0           0  \n",
       "2                  0           0        0      0           0  \n",
       "3                  0           0        0      0           0  \n",
       "4                  0           0        0      0           0  \n",
       "..               ...         ...      ...    ...         ...  \n",
       "62                 0           0        0      0           0  \n",
       "63                 0           0        0      0           0  \n",
       "64                 0           0        0      0           0  \n",
       "66                 0           0        0      0           0  \n",
       "67                 0           0        0      0           0  \n",
       "\n",
       "[4971 rows x 159 columns]"
      ],
      "text/html": "<div>\n<style scoped>\n    .dataframe tbody tr th:only-of-type {\n        vertical-align: middle;\n    }\n\n    .dataframe tbody tr th {\n        vertical-align: top;\n    }\n\n    .dataframe thead th {\n        text-align: right;\n    }\n</style>\n<table border=\"1\" class=\"dataframe\">\n  <thead>\n    <tr style=\"text-align: right;\">\n      <th></th>\n      <th>postal_code</th>\n      <th>name</th>\n      <th>location.lat</th>\n      <th>location.lng</th>\n      <th>American</th>\n      <th>Apparel</th>\n      <th>ArtGallery</th>\n      <th>Arts&amp;Crafts</th>\n      <th>Asian</th>\n      <th>Athletics&amp;Sports</th>\n      <th>...</th>\n      <th>Thrift/Vintage</th>\n      <th>Toys&amp;Games</th>\n      <th>Trail</th>\n      <th>TrainStation</th>\n      <th>Turkish</th>\n      <th>Vegetarian/Vegan</th>\n      <th>Vietnamese</th>\n      <th>WineBar</th>\n      <th>Wings</th>\n      <th>YogaStudio</th>\n    </tr>\n  </thead>\n  <tbody>\n    <tr>\n      <th>0</th>\n      <td>M3A</td>\n      <td>Allwyn's Bakery</td>\n      <td>43.759840</td>\n      <td>-79.324719</td>\n      <td>0</td>\n      <td>0</td>\n      <td>0</td>\n      <td>0</td>\n      <td>0</td>\n      <td>0</td>\n      <td>...</td>\n      <td>0</td>\n      <td>0</td>\n      <td>0</td>\n      <td>0</td>\n      <td>0</td>\n      <td>0</td>\n      <td>0</td>\n      <td>0</td>\n      <td>0</td>\n      <td>0</td>\n    </tr>\n    <tr>\n      <th>1</th>\n      <td>M3A</td>\n      <td>Tim Hortons</td>\n      <td>43.760668</td>\n      <td>-79.326368</td>\n      <td>0</td>\n      <td>0</td>\n      <td>0</td>\n      <td>0</td>\n      <td>0</td>\n      <td>0</td>\n      <td>...</td>\n      <td>0</td>\n      <td>0</td>\n      <td>0</td>\n      <td>0</td>\n      <td>0</td>\n      <td>0</td>\n      <td>0</td>\n      <td>0</td>\n      <td>0</td>\n      <td>0</td>\n    </tr>\n    <tr>\n      <th>2</th>\n      <td>M3A</td>\n      <td>Donalda Golf &amp; Country Club</td>\n      <td>43.752816</td>\n      <td>-79.342741</td>\n      <td>0</td>\n      <td>0</td>\n      <td>0</td>\n      <td>0</td>\n      <td>0</td>\n      <td>0</td>\n      <td>...</td>\n      <td>0</td>\n      <td>0</td>\n      <td>0</td>\n      <td>0</td>\n      <td>0</td>\n      <td>0</td>\n      <td>0</td>\n      <td>0</td>\n      <td>0</td>\n      <td>0</td>\n    </tr>\n    <tr>\n      <th>3</th>\n      <td>M3A</td>\n      <td>Brookbanks Park</td>\n      <td>43.751976</td>\n      <td>-79.332140</td>\n      <td>0</td>\n      <td>0</td>\n      <td>0</td>\n      <td>0</td>\n      <td>0</td>\n      <td>0</td>\n      <td>...</td>\n      <td>0</td>\n      <td>0</td>\n      <td>0</td>\n      <td>0</td>\n      <td>0</td>\n      <td>0</td>\n      <td>0</td>\n      <td>0</td>\n      <td>0</td>\n      <td>0</td>\n    </tr>\n    <tr>\n      <th>4</th>\n      <td>M3A</td>\n      <td>Bruno's valu-mart</td>\n      <td>43.746143</td>\n      <td>-79.324630</td>\n      <td>0</td>\n      <td>0</td>\n      <td>0</td>\n      <td>0</td>\n      <td>0</td>\n      <td>0</td>\n      <td>...</td>\n      <td>0</td>\n      <td>0</td>\n      <td>0</td>\n      <td>0</td>\n      <td>0</td>\n      <td>0</td>\n      <td>0</td>\n      <td>0</td>\n      <td>0</td>\n      <td>0</td>\n    </tr>\n    <tr>\n      <th>...</th>\n      <td>...</td>\n      <td>...</td>\n      <td>...</td>\n      <td>...</td>\n      <td>...</td>\n      <td>...</td>\n      <td>...</td>\n      <td>...</td>\n      <td>...</td>\n      <td>...</td>\n      <td>...</td>\n      <td>...</td>\n      <td>...</td>\n      <td>...</td>\n      <td>...</td>\n      <td>...</td>\n      <td>...</td>\n      <td>...</td>\n      <td>...</td>\n      <td>...</td>\n      <td>...</td>\n    </tr>\n    <tr>\n      <th>62</th>\n      <td>M8Z</td>\n      <td>Buns Masterbakery</td>\n      <td>43.633880</td>\n      <td>-79.531686</td>\n      <td>0</td>\n      <td>0</td>\n      <td>0</td>\n      <td>0</td>\n      <td>0</td>\n      <td>0</td>\n      <td>...</td>\n      <td>0</td>\n      <td>0</td>\n      <td>0</td>\n      <td>0</td>\n      <td>0</td>\n      <td>0</td>\n      <td>0</td>\n      <td>0</td>\n      <td>0</td>\n      <td>0</td>\n    </tr>\n    <tr>\n      <th>63</th>\n      <td>M8Z</td>\n      <td>Soccer Season</td>\n      <td>43.624862</td>\n      <td>-79.509344</td>\n      <td>0</td>\n      <td>0</td>\n      <td>0</td>\n      <td>0</td>\n      <td>0</td>\n      <td>0</td>\n      <td>...</td>\n      <td>0</td>\n      <td>0</td>\n      <td>0</td>\n      <td>0</td>\n      <td>0</td>\n      <td>0</td>\n      <td>0</td>\n      <td>0</td>\n      <td>0</td>\n      <td>0</td>\n    </tr>\n    <tr>\n      <th>64</th>\n      <td>M8Z</td>\n      <td>Ancom Chinese Restaurant</td>\n      <td>43.624481</td>\n      <td>-79.509448</td>\n      <td>0</td>\n      <td>0</td>\n      <td>0</td>\n      <td>0</td>\n      <td>0</td>\n      <td>0</td>\n      <td>...</td>\n      <td>0</td>\n      <td>0</td>\n      <td>0</td>\n      <td>0</td>\n      <td>0</td>\n      <td>0</td>\n      <td>0</td>\n      <td>0</td>\n      <td>0</td>\n      <td>0</td>\n    </tr>\n    <tr>\n      <th>66</th>\n      <td>M8Z</td>\n      <td>Zam</td>\n      <td>43.620798</td>\n      <td>-79.528265</td>\n      <td>0</td>\n      <td>0</td>\n      <td>0</td>\n      <td>0</td>\n      <td>0</td>\n      <td>0</td>\n      <td>...</td>\n      <td>0</td>\n      <td>0</td>\n      <td>0</td>\n      <td>0</td>\n      <td>0</td>\n      <td>0</td>\n      <td>0</td>\n      <td>0</td>\n      <td>0</td>\n      <td>0</td>\n    </tr>\n    <tr>\n      <th>67</th>\n      <td>M8Z</td>\n      <td>Viking Fish &amp; Chips</td>\n      <td>43.625137</td>\n      <td>-79.508407</td>\n      <td>0</td>\n      <td>0</td>\n      <td>0</td>\n      <td>0</td>\n      <td>0</td>\n      <td>0</td>\n      <td>...</td>\n      <td>0</td>\n      <td>0</td>\n      <td>0</td>\n      <td>0</td>\n      <td>0</td>\n      <td>0</td>\n      <td>0</td>\n      <td>0</td>\n      <td>0</td>\n      <td>0</td>\n    </tr>\n  </tbody>\n</table>\n<p>4971 rows × 159 columns</p>\n</div>"
     },
     "metadata": {},
     "execution_count": 22
    }
   ],
   "source": [
    "clustering_categories = ['postal_code', 'categories', 'name', 'location.lat', 'location.lng']\n",
    "common_df = common_df[clustering_categories]\n",
    "common_df = pd.get_dummies(common_df, columns=['categories'], prefix='', prefix_sep='')\n",
    "common_df.columns = [k.replace(' ','') for k in common_df.columns]\n",
    "print(common_df.shape)\n",
    "common_df"
   ]
  },
  {
   "source": [
    "Next, we group the dataframe by postcode/neighborhood, and take each neighborhood's mean for each feature. This indicates how frequently venues of a category appear in the neighborhood -- a mean of \"1\" for a category for a neighborhood would indicate that every venue in that neighborhood belongs to a category."
   ],
   "cell_type": "markdown",
   "metadata": {}
  },
  {
   "cell_type": "code",
   "execution_count": 23,
   "metadata": {},
   "outputs": [
    {
     "output_type": "stream",
     "name": "stdout",
     "text": [
      "             location.lat  location.lng  American  Apparel  ArtGallery  \\\npostal_code                                                              \nM1B             43.801495    -79.197239       0.0      0.0         0.0   \nM1C             43.783213    -79.164095       0.0      0.0         0.0   \nM1E             43.769750    -79.186351       0.0      0.0         0.0   \nM1G             43.766215    -79.215810       0.0      0.0         0.0   \nM1H             43.775645    -79.241100       0.0      0.0         0.0   \nM1J             43.742474    -79.239331       0.0      0.0         0.0   \nM1K             43.730993    -79.262624       0.0      0.0         0.0   \nM1L             43.710316    -79.284877       0.0      0.0         0.0   \nM1M             43.715046    -79.238920       0.0      0.0         0.0   \nM1N             43.694256    -79.266193       0.0      0.0         0.0   \n\n             Arts&Crafts     Asian  Athletics&Sports  BBQ  Bagels  ...  \\\npostal_code                                                        ...   \nM1B                 0.05  0.000000          0.000000  0.0     0.0  ...   \nM1C                 0.00  0.000000          0.000000  0.0     0.0  ...   \nM1E                 0.00  0.000000          0.000000  0.0     0.0  ...   \nM1G                 0.00  0.000000          0.000000  0.0     0.0  ...   \nM1H                 0.00  0.027027          0.027027  0.0     0.0  ...   \nM1J                 0.00  0.000000          0.000000  0.0     0.0  ...   \nM1K                 0.00  0.041667          0.000000  0.0     0.0  ...   \nM1L                 0.00  0.000000          0.000000  0.0     0.0  ...   \nM1M                 0.00  0.000000          0.000000  0.0     0.0  ...   \nM1N                 0.00  0.000000          0.000000  0.0     0.0  ...   \n\n             Thrift/Vintage  Toys&Games  Trail  TrainStation  Turkish  \\\npostal_code                                                             \nM1B                     0.0         0.0   0.10      0.000000      0.0   \nM1C                     0.0         0.0   0.00      0.000000      0.0   \nM1E                     0.0         0.0   0.00      0.000000      0.0   \nM1G                     0.0         0.0   0.00      0.000000      0.0   \nM1H                     0.0         0.0   0.00      0.000000      0.0   \nM1J                     0.0         0.0   0.00      0.071429      0.0   \nM1K                     0.0         0.0   0.00      0.041667      0.0   \nM1L                     0.0         0.0   0.04      0.000000      0.0   \nM1M                     0.0         0.0   0.00      0.000000      0.0   \nM1N                     0.0         0.0   0.00      0.000000      0.0   \n\n             Vegetarian/Vegan  Vietnamese  WineBar     Wings  YogaStudio  \npostal_code                                                               \nM1B                      0.00         0.0      0.0  0.000000    0.000000  \nM1C                      0.00         0.0      0.0  0.000000    0.000000  \nM1E                      0.00         0.0      0.0  0.000000    0.000000  \nM1G                      0.00         0.0      0.0  0.000000    0.000000  \nM1H                      0.00         0.0      0.0  0.027027    0.027027  \nM1J                      0.00         0.0      0.0  0.000000    0.000000  \nM1K                      0.00         0.0      0.0  0.000000    0.000000  \nM1L                      0.04         0.0      0.0  0.000000    0.000000  \nM1M                      0.00         0.0      0.0  0.000000    0.000000  \nM1N                      0.00         0.0      0.0  0.000000    0.000000  \n\n[10 rows x 157 columns]\n['location.lat' 'location.lng' 'American' 'Apparel' 'ArtGallery'\n 'Arts&Crafts' 'Asian' 'Athletics&Sports' 'BBQ' 'Bagels' 'Bakery' 'Bank'\n 'Bar' 'Basketball' 'Beach' 'BeerBar' 'BeerStore' 'Bistro' 'Bookstore'\n 'Boutique' 'Breakfast' 'Brewery' 'BubbleTea' 'Burgers' 'Burritos' 'Bus'\n 'BusStop' 'Butcher' 'Café' 'CandyStore' 'Caribbean' 'CheeseShop'\n 'Chinese' 'Cocktail' 'CoffeeShop' 'ComedyClub' 'ComfortFood' 'ComicShop'\n 'ConcertHall' 'ConvenienceStore' 'Cosmetics' 'Creperie' 'CurlingIce'\n 'DanceStudio' 'Deli/Bodega' 'DepartmentStore' 'Desserts' 'Diner'\n 'DiscountStore' 'DogRun' 'Donuts' 'EasternEuropean' 'Electronics'\n 'Ethiopian' 'Falafel' \"Farmer'sMarket\" 'FastFood' 'Filipino' 'Fish&Chips'\n 'FishMarket' 'FleaMarket' 'FlowerShop' 'Food&Drink' 'FoodCourt'\n 'FoodTruck' 'Fountain' 'French' 'FriedChicken' 'Furniture/Home' 'Garden'\n 'GasStation' 'Gastropub' 'GayBar' 'GiftShop' 'GolfCourse' 'Gourmet'\n 'Greek' 'GroceryStore' 'Gym' 'Gym/Fitness' 'Harbor/Marina'\n 'HealthFoodStore' 'HistoricSite' 'Hobbies' 'Hotel' 'ITServices'\n 'IceCream' 'Indian' 'IndieMovies' 'Intersection' 'Italian' 'Japanese'\n 'JuiceBar' 'Korean' 'Landmark' 'LatinAmerican' 'LiquorStore' 'Lounge'\n 'Mall' 'Mediterranean' \"Men'sStore\" 'Metro' 'Mexican' 'MiddleEastern'\n 'ModernEuropean' 'MovieTheater' 'Museum' 'NailSalon' 'Neighborhood'\n 'NewAmerican' 'OfficeSupplies' 'Optical' 'Park' 'PerformingArts'\n 'PetStore' 'Pharmacy' 'Pizza' 'Playground' 'Plaza' 'Pool' 'Portuguese'\n 'Pub' 'Ramen' 'RentalCar' 'Restaurant' 'Salad' 'Salon/Barbershop'\n 'Sandwiches' 'ScenicLookout' 'Seafood' 'Shoes' 'Shop' 'SkatingRink'\n 'SmokeShop' 'Snacks' 'Spa' 'Speakeasy' 'SportingGoods' 'SportsBar'\n 'Steakhouse' 'Supermarket' 'Sushi' 'Tacos' 'Tailor' 'TeaRoom' 'Thai'\n 'Theater' 'Thrift/Vintage' 'Toys&Games' 'Trail' 'TrainStation' 'Turkish'\n 'Vegetarian/Vegan' 'Vietnamese' 'WineBar' 'Wings' 'YogaStudio']\n"
     ]
    }
   ],
   "source": [
    "nhood_df = common_df.groupby('postal_code').mean()\n",
    "print(nhood_df.head(10))\n",
    "nhood_df.shape\n",
    "print(nhood_df.columns.values)"
   ]
  },
  {
   "source": [
    "Next, we standardize the data. This allows us to factor coordinates into our clustering; otherwise, the magnitude of the coordinates would outweigh all other factors when determining clusters. I consider the coordinates a factor because, for instance, many Italian restaurants in close proximity would indicate an Italian neighborhood; this physical grouping would be lost if coordinates aren't considered. Also, we preserve the mean and the variance of the latitude and longitude columns so that we can scale the means we find during clustering to valid coordinates."
   ],
   "cell_type": "markdown",
   "metadata": {}
  },
  {
   "cell_type": "code",
   "execution_count": 24,
   "metadata": {},
   "outputs": [
    {
     "output_type": "stream",
     "name": "stdout",
     "text": [
      "43.704272818215145 -79.39745131465281\n0.0027301946981149426 0.009231772252330737\n"
     ]
    },
    {
     "output_type": "execute_result",
     "data": {
      "text/plain": [
       "array([[ 1.86067594,  2.08376518, -0.57566326, ..., -0.31281867,\n",
       "        -0.2538459 , -0.48791677],\n",
       "       [ 1.51077371,  2.42872192, -0.57566326, ..., -0.31281867,\n",
       "        -0.2538459 , -0.48791677],\n",
       "       [ 1.25312197,  2.19707898, -0.57566326, ..., -0.31281867,\n",
       "        -0.2538459 , -0.48791677],\n",
       "       ...,\n",
       "       [-0.28364191, -1.68878118,  4.01992472, ..., -0.31281867,\n",
       "        -0.2538459 , -0.48791677],\n",
       "       [ 0.69052888, -1.96931262, -0.57566326, ..., -0.31281867,\n",
       "        -0.2538459 , -0.48791677],\n",
       "       [ 0.15212976, -2.01514198, -0.57566326, ..., -0.31281867,\n",
       "        -0.2538459 , -0.48791677]])"
      ]
     },
     "metadata": {},
     "execution_count": 24
    }
   ],
   "source": [
    "from sklearn.preprocessing import StandardScaler\n",
    "\n",
    "data_df = nhood_df.loc[:, ~(nhood_df.columns.isin(['postal_code', 'name']))]\n",
    "data_df_columns = data_df.columns\n",
    "lat_index, lng_index = data_df.columns.to_list().index('location.lat'), data_df.columns.to_list().index('location.lng')\n",
    "scaler = StandardScaler()\n",
    "data_df = scaler.fit_transform(data_df)\n",
    "lat_mean, lng_mean = scaler.mean_[lat_index], scaler.mean_[lng_index]\n",
    "lat_var, lng_var = scaler.var_[lat_index], scaler.var_[lng_index]\n",
    "print(lat_mean, lng_mean)\n",
    "print(lat_var, lng_var)\n",
    "data_df"
   ]
  },
  {
   "source": [
    "As a bonus step, I apply a factor to the standardized coordinate columns, so that I can control their influence on the determination of clusters."
   ],
   "cell_type": "markdown",
   "metadata": {}
  },
  {
   "cell_type": "code",
   "execution_count": 25,
   "metadata": {},
   "outputs": [
    {
     "output_type": "execute_result",
     "data": {
      "text/plain": [
       "array([[ 3.72135188,  4.16753036, -0.57566326, ..., -0.31281867,\n",
       "        -0.2538459 , -0.48791677],\n",
       "       [ 3.02154742,  4.85744383, -0.57566326, ..., -0.31281867,\n",
       "        -0.2538459 , -0.48791677],\n",
       "       [ 2.50624395,  4.39415795, -0.57566326, ..., -0.31281867,\n",
       "        -0.2538459 , -0.48791677],\n",
       "       ...,\n",
       "       [-0.56728381, -3.37756235,  4.01992472, ..., -0.31281867,\n",
       "        -0.2538459 , -0.48791677],\n",
       "       [ 1.38105777, -3.93862525, -0.57566326, ..., -0.31281867,\n",
       "        -0.2538459 , -0.48791677],\n",
       "       [ 0.30425951, -4.03028396, -0.57566326, ..., -0.31281867,\n",
       "        -0.2538459 , -0.48791677]])"
      ]
     },
     "metadata": {},
     "execution_count": 25
    }
   ],
   "source": [
    "LOCATION_WEIGHT_FACTOR = 2\n",
    "data_df[:, lat_index] = data_df[:, lat_index] * LOCATION_WEIGHT_FACTOR\n",
    "data_df[:, lng_index] = data_df[:, lng_index] * LOCATION_WEIGHT_FACTOR\n",
    "data_df"
   ]
  },
  {
   "source": [
    "We're ready for kmeans! Let's use a knee-finding plot to see what the optimal k is for us to choose."
   ],
   "cell_type": "markdown",
   "metadata": {}
  },
  {
   "cell_type": "code",
   "execution_count": 26,
   "metadata": {},
   "outputs": [
    {
     "output_type": "display_data",
     "data": {
      "text/plain": "<Figure size 432x288 with 1 Axes>",
      "image/svg+xml": "<?xml version=\"1.0\" encoding=\"utf-8\" standalone=\"no\"?>\r\n<!DOCTYPE svg PUBLIC \"-//W3C//DTD SVG 1.1//EN\"\r\n  \"http://www.w3.org/Graphics/SVG/1.1/DTD/svg11.dtd\">\r\n<!-- Created with matplotlib (https://matplotlib.org/) -->\r\n<svg height=\"248.518125pt\" version=\"1.1\" viewBox=\"0 0 388.0125 248.518125\" width=\"388.0125pt\" xmlns=\"http://www.w3.org/2000/svg\" xmlns:xlink=\"http://www.w3.org/1999/xlink\">\r\n <metadata>\r\n  <rdf:RDF xmlns:cc=\"http://creativecommons.org/ns#\" xmlns:dc=\"http://purl.org/dc/elements/1.1/\" xmlns:rdf=\"http://www.w3.org/1999/02/22-rdf-syntax-ns#\">\r\n   <cc:Work>\r\n    <dc:type rdf:resource=\"http://purl.org/dc/dcmitype/StillImage\"/>\r\n    <dc:date>2020-12-15T21:54:58.285792</dc:date>\r\n    <dc:format>image/svg+xml</dc:format>\r\n    <dc:creator>\r\n     <cc:Agent>\r\n      <dc:title>Matplotlib v3.3.3, https://matplotlib.org/</dc:title>\r\n     </cc:Agent>\r\n    </dc:creator>\r\n   </cc:Work>\r\n  </rdf:RDF>\r\n </metadata>\r\n <defs>\r\n  <style type=\"text/css\">*{stroke-linecap:butt;stroke-linejoin:round;}</style>\r\n </defs>\r\n <g id=\"figure_1\">\r\n  <g id=\"patch_1\">\r\n   <path d=\"M 0 248.518125 \r\nL 388.0125 248.518125 \r\nL 388.0125 0 \r\nL 0 0 \r\nz\r\n\" style=\"fill:none;\"/>\r\n  </g>\r\n  <g id=\"axes_1\">\r\n   <g id=\"patch_2\">\r\n    <path d=\"M 46.0125 224.64 \r\nL 380.8125 224.64 \r\nL 380.8125 7.2 \r\nL 46.0125 7.2 \r\nz\r\n\" style=\"fill:#ffffff;\"/>\r\n   </g>\r\n   <g id=\"matplotlib.axis_1\">\r\n    <g id=\"xtick_1\">\r\n     <g id=\"line2d_1\">\r\n      <path clip-path=\"url(#paabb9db549)\" d=\"M 111.957955 224.64 \r\nL 111.957955 7.2 \r\n\" style=\"fill:none;stroke:#b0b0b0;stroke-linecap:square;stroke-width:0.8;\"/>\r\n     </g>\r\n     <g id=\"line2d_2\">\r\n      <defs>\r\n       <path d=\"M 0 0 \r\nL 0 3.5 \r\n\" id=\"mf809b01216\" style=\"stroke:#000000;stroke-width:0.8;\"/>\r\n      </defs>\r\n      <g>\r\n       <use style=\"stroke:#000000;stroke-width:0.8;\" x=\"111.957955\" xlink:href=\"#mf809b01216\" y=\"224.64\"/>\r\n      </g>\r\n     </g>\r\n     <g id=\"text_1\">\r\n      <!-- 20 -->\r\n      <g transform=\"translate(105.595455 239.238438)scale(0.1 -0.1)\">\r\n       <defs>\r\n        <path d=\"M 19.1875 8.296875 \r\nL 53.609375 8.296875 \r\nL 53.609375 0 \r\nL 7.328125 0 \r\nL 7.328125 8.296875 \r\nQ 12.9375 14.109375 22.625 23.890625 \r\nQ 32.328125 33.6875 34.8125 36.53125 \r\nQ 39.546875 41.84375 41.421875 45.53125 \r\nQ 43.3125 49.21875 43.3125 52.78125 \r\nQ 43.3125 58.59375 39.234375 62.25 \r\nQ 35.15625 65.921875 28.609375 65.921875 \r\nQ 23.96875 65.921875 18.8125 64.3125 \r\nQ 13.671875 62.703125 7.8125 59.421875 \r\nL 7.8125 69.390625 \r\nQ 13.765625 71.78125 18.9375 73 \r\nQ 24.125 74.21875 28.421875 74.21875 \r\nQ 39.75 74.21875 46.484375 68.546875 \r\nQ 53.21875 62.890625 53.21875 53.421875 \r\nQ 53.21875 48.921875 51.53125 44.890625 \r\nQ 49.859375 40.875 45.40625 35.40625 \r\nQ 44.1875 33.984375 37.640625 27.21875 \r\nQ 31.109375 20.453125 19.1875 8.296875 \r\nz\r\n\" id=\"DejaVuSans-50\"/>\r\n        <path d=\"M 31.78125 66.40625 \r\nQ 24.171875 66.40625 20.328125 58.90625 \r\nQ 16.5 51.421875 16.5 36.375 \r\nQ 16.5 21.390625 20.328125 13.890625 \r\nQ 24.171875 6.390625 31.78125 6.390625 \r\nQ 39.453125 6.390625 43.28125 13.890625 \r\nQ 47.125 21.390625 47.125 36.375 \r\nQ 47.125 51.421875 43.28125 58.90625 \r\nQ 39.453125 66.40625 31.78125 66.40625 \r\nz\r\nM 31.78125 74.21875 \r\nQ 44.046875 74.21875 50.515625 64.515625 \r\nQ 56.984375 54.828125 56.984375 36.375 \r\nQ 56.984375 17.96875 50.515625 8.265625 \r\nQ 44.046875 -1.421875 31.78125 -1.421875 \r\nQ 19.53125 -1.421875 13.0625 8.265625 \r\nQ 6.59375 17.96875 6.59375 36.375 \r\nQ 6.59375 54.828125 13.0625 64.515625 \r\nQ 19.53125 74.21875 31.78125 74.21875 \r\nz\r\n\" id=\"DejaVuSans-48\"/>\r\n       </defs>\r\n       <use xlink:href=\"#DejaVuSans-50\"/>\r\n       <use x=\"63.623047\" xlink:href=\"#DejaVuSans-48\"/>\r\n      </g>\r\n     </g>\r\n    </g>\r\n    <g id=\"xtick_2\">\r\n     <g id=\"line2d_3\">\r\n      <path clip-path=\"url(#paabb9db549)\" d=\"M 179.594318 224.64 \r\nL 179.594318 7.2 \r\n\" style=\"fill:none;stroke:#b0b0b0;stroke-linecap:square;stroke-width:0.8;\"/>\r\n     </g>\r\n     <g id=\"line2d_4\">\r\n      <g>\r\n       <use style=\"stroke:#000000;stroke-width:0.8;\" x=\"179.594318\" xlink:href=\"#mf809b01216\" y=\"224.64\"/>\r\n      </g>\r\n     </g>\r\n     <g id=\"text_2\">\r\n      <!-- 40 -->\r\n      <g transform=\"translate(173.231818 239.238438)scale(0.1 -0.1)\">\r\n       <defs>\r\n        <path d=\"M 37.796875 64.3125 \r\nL 12.890625 25.390625 \r\nL 37.796875 25.390625 \r\nz\r\nM 35.203125 72.90625 \r\nL 47.609375 72.90625 \r\nL 47.609375 25.390625 \r\nL 58.015625 25.390625 \r\nL 58.015625 17.1875 \r\nL 47.609375 17.1875 \r\nL 47.609375 0 \r\nL 37.796875 0 \r\nL 37.796875 17.1875 \r\nL 4.890625 17.1875 \r\nL 4.890625 26.703125 \r\nz\r\n\" id=\"DejaVuSans-52\"/>\r\n       </defs>\r\n       <use xlink:href=\"#DejaVuSans-52\"/>\r\n       <use x=\"63.623047\" xlink:href=\"#DejaVuSans-48\"/>\r\n      </g>\r\n     </g>\r\n    </g>\r\n    <g id=\"xtick_3\">\r\n     <g id=\"line2d_5\">\r\n      <path clip-path=\"url(#paabb9db549)\" d=\"M 247.230682 224.64 \r\nL 247.230682 7.2 \r\n\" style=\"fill:none;stroke:#b0b0b0;stroke-linecap:square;stroke-width:0.8;\"/>\r\n     </g>\r\n     <g id=\"line2d_6\">\r\n      <g>\r\n       <use style=\"stroke:#000000;stroke-width:0.8;\" x=\"247.230682\" xlink:href=\"#mf809b01216\" y=\"224.64\"/>\r\n      </g>\r\n     </g>\r\n     <g id=\"text_3\">\r\n      <!-- 60 -->\r\n      <g transform=\"translate(240.868182 239.238438)scale(0.1 -0.1)\">\r\n       <defs>\r\n        <path d=\"M 33.015625 40.375 \r\nQ 26.375 40.375 22.484375 35.828125 \r\nQ 18.609375 31.296875 18.609375 23.390625 \r\nQ 18.609375 15.53125 22.484375 10.953125 \r\nQ 26.375 6.390625 33.015625 6.390625 \r\nQ 39.65625 6.390625 43.53125 10.953125 \r\nQ 47.40625 15.53125 47.40625 23.390625 \r\nQ 47.40625 31.296875 43.53125 35.828125 \r\nQ 39.65625 40.375 33.015625 40.375 \r\nz\r\nM 52.59375 71.296875 \r\nL 52.59375 62.3125 \r\nQ 48.875 64.0625 45.09375 64.984375 \r\nQ 41.3125 65.921875 37.59375 65.921875 \r\nQ 27.828125 65.921875 22.671875 59.328125 \r\nQ 17.53125 52.734375 16.796875 39.40625 \r\nQ 19.671875 43.65625 24.015625 45.921875 \r\nQ 28.375 48.1875 33.59375 48.1875 \r\nQ 44.578125 48.1875 50.953125 41.515625 \r\nQ 57.328125 34.859375 57.328125 23.390625 \r\nQ 57.328125 12.15625 50.6875 5.359375 \r\nQ 44.046875 -1.421875 33.015625 -1.421875 \r\nQ 20.359375 -1.421875 13.671875 8.265625 \r\nQ 6.984375 17.96875 6.984375 36.375 \r\nQ 6.984375 53.65625 15.1875 63.9375 \r\nQ 23.390625 74.21875 37.203125 74.21875 \r\nQ 40.921875 74.21875 44.703125 73.484375 \r\nQ 48.484375 72.75 52.59375 71.296875 \r\nz\r\n\" id=\"DejaVuSans-54\"/>\r\n       </defs>\r\n       <use xlink:href=\"#DejaVuSans-54\"/>\r\n       <use x=\"63.623047\" xlink:href=\"#DejaVuSans-48\"/>\r\n      </g>\r\n     </g>\r\n    </g>\r\n    <g id=\"xtick_4\">\r\n     <g id=\"line2d_7\">\r\n      <path clip-path=\"url(#paabb9db549)\" d=\"M 314.867045 224.64 \r\nL 314.867045 7.2 \r\n\" style=\"fill:none;stroke:#b0b0b0;stroke-linecap:square;stroke-width:0.8;\"/>\r\n     </g>\r\n     <g id=\"line2d_8\">\r\n      <g>\r\n       <use style=\"stroke:#000000;stroke-width:0.8;\" x=\"314.867045\" xlink:href=\"#mf809b01216\" y=\"224.64\"/>\r\n      </g>\r\n     </g>\r\n     <g id=\"text_4\">\r\n      <!-- 80 -->\r\n      <g transform=\"translate(308.504545 239.238438)scale(0.1 -0.1)\">\r\n       <defs>\r\n        <path d=\"M 31.78125 34.625 \r\nQ 24.75 34.625 20.71875 30.859375 \r\nQ 16.703125 27.09375 16.703125 20.515625 \r\nQ 16.703125 13.921875 20.71875 10.15625 \r\nQ 24.75 6.390625 31.78125 6.390625 \r\nQ 38.8125 6.390625 42.859375 10.171875 \r\nQ 46.921875 13.96875 46.921875 20.515625 \r\nQ 46.921875 27.09375 42.890625 30.859375 \r\nQ 38.875 34.625 31.78125 34.625 \r\nz\r\nM 21.921875 38.8125 \r\nQ 15.578125 40.375 12.03125 44.71875 \r\nQ 8.5 49.078125 8.5 55.328125 \r\nQ 8.5 64.0625 14.71875 69.140625 \r\nQ 20.953125 74.21875 31.78125 74.21875 \r\nQ 42.671875 74.21875 48.875 69.140625 \r\nQ 55.078125 64.0625 55.078125 55.328125 \r\nQ 55.078125 49.078125 51.53125 44.71875 \r\nQ 48 40.375 41.703125 38.8125 \r\nQ 48.828125 37.15625 52.796875 32.3125 \r\nQ 56.78125 27.484375 56.78125 20.515625 \r\nQ 56.78125 9.90625 50.3125 4.234375 \r\nQ 43.84375 -1.421875 31.78125 -1.421875 \r\nQ 19.734375 -1.421875 13.25 4.234375 \r\nQ 6.78125 9.90625 6.78125 20.515625 \r\nQ 6.78125 27.484375 10.78125 32.3125 \r\nQ 14.796875 37.15625 21.921875 38.8125 \r\nz\r\nM 18.3125 54.390625 \r\nQ 18.3125 48.734375 21.84375 45.5625 \r\nQ 25.390625 42.390625 31.78125 42.390625 \r\nQ 38.140625 42.390625 41.71875 45.5625 \r\nQ 45.3125 48.734375 45.3125 54.390625 \r\nQ 45.3125 60.0625 41.71875 63.234375 \r\nQ 38.140625 66.40625 31.78125 66.40625 \r\nQ 25.390625 66.40625 21.84375 63.234375 \r\nQ 18.3125 60.0625 18.3125 54.390625 \r\nz\r\n\" id=\"DejaVuSans-56\"/>\r\n       </defs>\r\n       <use xlink:href=\"#DejaVuSans-56\"/>\r\n       <use x=\"63.623047\" xlink:href=\"#DejaVuSans-48\"/>\r\n      </g>\r\n     </g>\r\n    </g>\r\n    <g id=\"xtick_5\">\r\n     <g id=\"line2d_9\">\r\n      <path clip-path=\"url(#paabb9db549)\" d=\"M 61.230682 224.64 \r\nL 61.230682 7.2 \r\n\" style=\"fill:none;stroke:#b0b0b0;stroke-linecap:square;stroke-width:0.8;\"/>\r\n     </g>\r\n     <g id=\"line2d_10\">\r\n      <defs>\r\n       <path d=\"M 0 0 \r\nL 0 2 \r\n\" id=\"m5d8de3a891\" style=\"stroke:#000000;stroke-width:0.6;\"/>\r\n      </defs>\r\n      <g>\r\n       <use style=\"stroke:#000000;stroke-width:0.6;\" x=\"61.230682\" xlink:href=\"#m5d8de3a891\" y=\"224.64\"/>\r\n      </g>\r\n     </g>\r\n    </g>\r\n    <g id=\"xtick_6\">\r\n     <g id=\"line2d_11\">\r\n      <path clip-path=\"url(#paabb9db549)\" d=\"M 78.139773 224.64 \r\nL 78.139773 7.2 \r\n\" style=\"fill:none;stroke:#b0b0b0;stroke-linecap:square;stroke-width:0.8;\"/>\r\n     </g>\r\n     <g id=\"line2d_12\">\r\n      <g>\r\n       <use style=\"stroke:#000000;stroke-width:0.6;\" x=\"78.139773\" xlink:href=\"#m5d8de3a891\" y=\"224.64\"/>\r\n      </g>\r\n     </g>\r\n    </g>\r\n    <g id=\"xtick_7\">\r\n     <g id=\"line2d_13\">\r\n      <path clip-path=\"url(#paabb9db549)\" d=\"M 95.048864 224.64 \r\nL 95.048864 7.2 \r\n\" style=\"fill:none;stroke:#b0b0b0;stroke-linecap:square;stroke-width:0.8;\"/>\r\n     </g>\r\n     <g id=\"line2d_14\">\r\n      <g>\r\n       <use style=\"stroke:#000000;stroke-width:0.6;\" x=\"95.048864\" xlink:href=\"#m5d8de3a891\" y=\"224.64\"/>\r\n      </g>\r\n     </g>\r\n    </g>\r\n    <g id=\"xtick_8\">\r\n     <g id=\"line2d_15\">\r\n      <path clip-path=\"url(#paabb9db549)\" d=\"M 128.867045 224.64 \r\nL 128.867045 7.2 \r\n\" style=\"fill:none;stroke:#b0b0b0;stroke-linecap:square;stroke-width:0.8;\"/>\r\n     </g>\r\n     <g id=\"line2d_16\">\r\n      <g>\r\n       <use style=\"stroke:#000000;stroke-width:0.6;\" x=\"128.867045\" xlink:href=\"#m5d8de3a891\" y=\"224.64\"/>\r\n      </g>\r\n     </g>\r\n    </g>\r\n    <g id=\"xtick_9\">\r\n     <g id=\"line2d_17\">\r\n      <path clip-path=\"url(#paabb9db549)\" d=\"M 145.776136 224.64 \r\nL 145.776136 7.2 \r\n\" style=\"fill:none;stroke:#b0b0b0;stroke-linecap:square;stroke-width:0.8;\"/>\r\n     </g>\r\n     <g id=\"line2d_18\">\r\n      <g>\r\n       <use style=\"stroke:#000000;stroke-width:0.6;\" x=\"145.776136\" xlink:href=\"#m5d8de3a891\" y=\"224.64\"/>\r\n      </g>\r\n     </g>\r\n    </g>\r\n    <g id=\"xtick_10\">\r\n     <g id=\"line2d_19\">\r\n      <path clip-path=\"url(#paabb9db549)\" d=\"M 162.685227 224.64 \r\nL 162.685227 7.2 \r\n\" style=\"fill:none;stroke:#b0b0b0;stroke-linecap:square;stroke-width:0.8;\"/>\r\n     </g>\r\n     <g id=\"line2d_20\">\r\n      <g>\r\n       <use style=\"stroke:#000000;stroke-width:0.6;\" x=\"162.685227\" xlink:href=\"#m5d8de3a891\" y=\"224.64\"/>\r\n      </g>\r\n     </g>\r\n    </g>\r\n    <g id=\"xtick_11\">\r\n     <g id=\"line2d_21\">\r\n      <path clip-path=\"url(#paabb9db549)\" d=\"M 196.503409 224.64 \r\nL 196.503409 7.2 \r\n\" style=\"fill:none;stroke:#b0b0b0;stroke-linecap:square;stroke-width:0.8;\"/>\r\n     </g>\r\n     <g id=\"line2d_22\">\r\n      <g>\r\n       <use style=\"stroke:#000000;stroke-width:0.6;\" x=\"196.503409\" xlink:href=\"#m5d8de3a891\" y=\"224.64\"/>\r\n      </g>\r\n     </g>\r\n    </g>\r\n    <g id=\"xtick_12\">\r\n     <g id=\"line2d_23\">\r\n      <path clip-path=\"url(#paabb9db549)\" d=\"M 213.4125 224.64 \r\nL 213.4125 7.2 \r\n\" style=\"fill:none;stroke:#b0b0b0;stroke-linecap:square;stroke-width:0.8;\"/>\r\n     </g>\r\n     <g id=\"line2d_24\">\r\n      <g>\r\n       <use style=\"stroke:#000000;stroke-width:0.6;\" x=\"213.4125\" xlink:href=\"#m5d8de3a891\" y=\"224.64\"/>\r\n      </g>\r\n     </g>\r\n    </g>\r\n    <g id=\"xtick_13\">\r\n     <g id=\"line2d_25\">\r\n      <path clip-path=\"url(#paabb9db549)\" d=\"M 230.321591 224.64 \r\nL 230.321591 7.2 \r\n\" style=\"fill:none;stroke:#b0b0b0;stroke-linecap:square;stroke-width:0.8;\"/>\r\n     </g>\r\n     <g id=\"line2d_26\">\r\n      <g>\r\n       <use style=\"stroke:#000000;stroke-width:0.6;\" x=\"230.321591\" xlink:href=\"#m5d8de3a891\" y=\"224.64\"/>\r\n      </g>\r\n     </g>\r\n    </g>\r\n    <g id=\"xtick_14\">\r\n     <g id=\"line2d_27\">\r\n      <path clip-path=\"url(#paabb9db549)\" d=\"M 264.139773 224.64 \r\nL 264.139773 7.2 \r\n\" style=\"fill:none;stroke:#b0b0b0;stroke-linecap:square;stroke-width:0.8;\"/>\r\n     </g>\r\n     <g id=\"line2d_28\">\r\n      <g>\r\n       <use style=\"stroke:#000000;stroke-width:0.6;\" x=\"264.139773\" xlink:href=\"#m5d8de3a891\" y=\"224.64\"/>\r\n      </g>\r\n     </g>\r\n    </g>\r\n    <g id=\"xtick_15\">\r\n     <g id=\"line2d_29\">\r\n      <path clip-path=\"url(#paabb9db549)\" d=\"M 281.048864 224.64 \r\nL 281.048864 7.2 \r\n\" style=\"fill:none;stroke:#b0b0b0;stroke-linecap:square;stroke-width:0.8;\"/>\r\n     </g>\r\n     <g id=\"line2d_30\">\r\n      <g>\r\n       <use style=\"stroke:#000000;stroke-width:0.6;\" x=\"281.048864\" xlink:href=\"#m5d8de3a891\" y=\"224.64\"/>\r\n      </g>\r\n     </g>\r\n    </g>\r\n    <g id=\"xtick_16\">\r\n     <g id=\"line2d_31\">\r\n      <path clip-path=\"url(#paabb9db549)\" d=\"M 297.957955 224.64 \r\nL 297.957955 7.2 \r\n\" style=\"fill:none;stroke:#b0b0b0;stroke-linecap:square;stroke-width:0.8;\"/>\r\n     </g>\r\n     <g id=\"line2d_32\">\r\n      <g>\r\n       <use style=\"stroke:#000000;stroke-width:0.6;\" x=\"297.957955\" xlink:href=\"#m5d8de3a891\" y=\"224.64\"/>\r\n      </g>\r\n     </g>\r\n    </g>\r\n    <g id=\"xtick_17\">\r\n     <g id=\"line2d_33\">\r\n      <path clip-path=\"url(#paabb9db549)\" d=\"M 331.776136 224.64 \r\nL 331.776136 7.2 \r\n\" style=\"fill:none;stroke:#b0b0b0;stroke-linecap:square;stroke-width:0.8;\"/>\r\n     </g>\r\n     <g id=\"line2d_34\">\r\n      <g>\r\n       <use style=\"stroke:#000000;stroke-width:0.6;\" x=\"331.776136\" xlink:href=\"#m5d8de3a891\" y=\"224.64\"/>\r\n      </g>\r\n     </g>\r\n    </g>\r\n    <g id=\"xtick_18\">\r\n     <g id=\"line2d_35\">\r\n      <path clip-path=\"url(#paabb9db549)\" d=\"M 348.685227 224.64 \r\nL 348.685227 7.2 \r\n\" style=\"fill:none;stroke:#b0b0b0;stroke-linecap:square;stroke-width:0.8;\"/>\r\n     </g>\r\n     <g id=\"line2d_36\">\r\n      <g>\r\n       <use style=\"stroke:#000000;stroke-width:0.6;\" x=\"348.685227\" xlink:href=\"#m5d8de3a891\" y=\"224.64\"/>\r\n      </g>\r\n     </g>\r\n    </g>\r\n    <g id=\"xtick_19\">\r\n     <g id=\"line2d_37\">\r\n      <path clip-path=\"url(#paabb9db549)\" d=\"M 365.594318 224.64 \r\nL 365.594318 7.2 \r\n\" style=\"fill:none;stroke:#b0b0b0;stroke-linecap:square;stroke-width:0.8;\"/>\r\n     </g>\r\n     <g id=\"line2d_38\">\r\n      <g>\r\n       <use style=\"stroke:#000000;stroke-width:0.6;\" x=\"365.594318\" xlink:href=\"#m5d8de3a891\" y=\"224.64\"/>\r\n      </g>\r\n     </g>\r\n    </g>\r\n   </g>\r\n   <g id=\"matplotlib.axis_2\">\r\n    <g id=\"ytick_1\">\r\n     <g id=\"line2d_39\">\r\n      <path clip-path=\"url(#paabb9db549)\" d=\"M 46.0125 218.028608 \r\nL 380.8125 218.028608 \r\n\" style=\"fill:none;stroke:#b0b0b0;stroke-linecap:square;stroke-width:0.8;\"/>\r\n     </g>\r\n     <g id=\"line2d_40\">\r\n      <defs>\r\n       <path d=\"M 0 0 \r\nL -3.5 0 \r\n\" id=\"m03c7db7095\" style=\"stroke:#000000;stroke-width:0.8;\"/>\r\n      </defs>\r\n      <g>\r\n       <use style=\"stroke:#000000;stroke-width:0.8;\" x=\"46.0125\" xlink:href=\"#m03c7db7095\" y=\"218.028608\"/>\r\n      </g>\r\n     </g>\r\n     <g id=\"text_5\">\r\n      <!-- 0 -->\r\n      <g transform=\"translate(32.65 221.827826)scale(0.1 -0.1)\">\r\n       <use xlink:href=\"#DejaVuSans-48\"/>\r\n      </g>\r\n     </g>\r\n    </g>\r\n    <g id=\"ytick_2\">\r\n     <g id=\"line2d_41\">\r\n      <path clip-path=\"url(#paabb9db549)\" d=\"M 46.0125 189.323815 \r\nL 380.8125 189.323815 \r\n\" style=\"fill:none;stroke:#b0b0b0;stroke-linecap:square;stroke-width:0.8;\"/>\r\n     </g>\r\n     <g id=\"line2d_42\">\r\n      <g>\r\n       <use style=\"stroke:#000000;stroke-width:0.8;\" x=\"46.0125\" xlink:href=\"#m03c7db7095\" y=\"189.323815\"/>\r\n      </g>\r\n     </g>\r\n     <g id=\"text_6\">\r\n      <!-- 2000 -->\r\n      <g transform=\"translate(13.5625 193.123034)scale(0.1 -0.1)\">\r\n       <use xlink:href=\"#DejaVuSans-50\"/>\r\n       <use x=\"63.623047\" xlink:href=\"#DejaVuSans-48\"/>\r\n       <use x=\"127.246094\" xlink:href=\"#DejaVuSans-48\"/>\r\n       <use x=\"190.869141\" xlink:href=\"#DejaVuSans-48\"/>\r\n      </g>\r\n     </g>\r\n    </g>\r\n    <g id=\"ytick_3\">\r\n     <g id=\"line2d_43\">\r\n      <path clip-path=\"url(#paabb9db549)\" d=\"M 46.0125 160.619023 \r\nL 380.8125 160.619023 \r\n\" style=\"fill:none;stroke:#b0b0b0;stroke-linecap:square;stroke-width:0.8;\"/>\r\n     </g>\r\n     <g id=\"line2d_44\">\r\n      <g>\r\n       <use style=\"stroke:#000000;stroke-width:0.8;\" x=\"46.0125\" xlink:href=\"#m03c7db7095\" y=\"160.619023\"/>\r\n      </g>\r\n     </g>\r\n     <g id=\"text_7\">\r\n      <!-- 4000 -->\r\n      <g transform=\"translate(13.5625 164.418241)scale(0.1 -0.1)\">\r\n       <use xlink:href=\"#DejaVuSans-52\"/>\r\n       <use x=\"63.623047\" xlink:href=\"#DejaVuSans-48\"/>\r\n       <use x=\"127.246094\" xlink:href=\"#DejaVuSans-48\"/>\r\n       <use x=\"190.869141\" xlink:href=\"#DejaVuSans-48\"/>\r\n      </g>\r\n     </g>\r\n    </g>\r\n    <g id=\"ytick_4\">\r\n     <g id=\"line2d_45\">\r\n      <path clip-path=\"url(#paabb9db549)\" d=\"M 46.0125 131.91423 \r\nL 380.8125 131.91423 \r\n\" style=\"fill:none;stroke:#b0b0b0;stroke-linecap:square;stroke-width:0.8;\"/>\r\n     </g>\r\n     <g id=\"line2d_46\">\r\n      <g>\r\n       <use style=\"stroke:#000000;stroke-width:0.8;\" x=\"46.0125\" xlink:href=\"#m03c7db7095\" y=\"131.91423\"/>\r\n      </g>\r\n     </g>\r\n     <g id=\"text_8\">\r\n      <!-- 6000 -->\r\n      <g transform=\"translate(13.5625 135.713449)scale(0.1 -0.1)\">\r\n       <use xlink:href=\"#DejaVuSans-54\"/>\r\n       <use x=\"63.623047\" xlink:href=\"#DejaVuSans-48\"/>\r\n       <use x=\"127.246094\" xlink:href=\"#DejaVuSans-48\"/>\r\n       <use x=\"190.869141\" xlink:href=\"#DejaVuSans-48\"/>\r\n      </g>\r\n     </g>\r\n    </g>\r\n    <g id=\"ytick_5\">\r\n     <g id=\"line2d_47\">\r\n      <path clip-path=\"url(#paabb9db549)\" d=\"M 46.0125 103.209438 \r\nL 380.8125 103.209438 \r\n\" style=\"fill:none;stroke:#b0b0b0;stroke-linecap:square;stroke-width:0.8;\"/>\r\n     </g>\r\n     <g id=\"line2d_48\">\r\n      <g>\r\n       <use style=\"stroke:#000000;stroke-width:0.8;\" x=\"46.0125\" xlink:href=\"#m03c7db7095\" y=\"103.209438\"/>\r\n      </g>\r\n     </g>\r\n     <g id=\"text_9\">\r\n      <!-- 8000 -->\r\n      <g transform=\"translate(13.5625 107.008656)scale(0.1 -0.1)\">\r\n       <use xlink:href=\"#DejaVuSans-56\"/>\r\n       <use x=\"63.623047\" xlink:href=\"#DejaVuSans-48\"/>\r\n       <use x=\"127.246094\" xlink:href=\"#DejaVuSans-48\"/>\r\n       <use x=\"190.869141\" xlink:href=\"#DejaVuSans-48\"/>\r\n      </g>\r\n     </g>\r\n    </g>\r\n    <g id=\"ytick_6\">\r\n     <g id=\"line2d_49\">\r\n      <path clip-path=\"url(#paabb9db549)\" d=\"M 46.0125 74.504645 \r\nL 380.8125 74.504645 \r\n\" style=\"fill:none;stroke:#b0b0b0;stroke-linecap:square;stroke-width:0.8;\"/>\r\n     </g>\r\n     <g id=\"line2d_50\">\r\n      <g>\r\n       <use style=\"stroke:#000000;stroke-width:0.8;\" x=\"46.0125\" xlink:href=\"#m03c7db7095\" y=\"74.504645\"/>\r\n      </g>\r\n     </g>\r\n     <g id=\"text_10\">\r\n      <!-- 10000 -->\r\n      <g transform=\"translate(7.2 78.303864)scale(0.1 -0.1)\">\r\n       <defs>\r\n        <path d=\"M 12.40625 8.296875 \r\nL 28.515625 8.296875 \r\nL 28.515625 63.921875 \r\nL 10.984375 60.40625 \r\nL 10.984375 69.390625 \r\nL 28.421875 72.90625 \r\nL 38.28125 72.90625 \r\nL 38.28125 8.296875 \r\nL 54.390625 8.296875 \r\nL 54.390625 0 \r\nL 12.40625 0 \r\nz\r\n\" id=\"DejaVuSans-49\"/>\r\n       </defs>\r\n       <use xlink:href=\"#DejaVuSans-49\"/>\r\n       <use x=\"63.623047\" xlink:href=\"#DejaVuSans-48\"/>\r\n       <use x=\"127.246094\" xlink:href=\"#DejaVuSans-48\"/>\r\n       <use x=\"190.869141\" xlink:href=\"#DejaVuSans-48\"/>\r\n       <use x=\"254.492188\" xlink:href=\"#DejaVuSans-48\"/>\r\n      </g>\r\n     </g>\r\n    </g>\r\n    <g id=\"ytick_7\">\r\n     <g id=\"line2d_51\">\r\n      <path clip-path=\"url(#paabb9db549)\" d=\"M 46.0125 45.799853 \r\nL 380.8125 45.799853 \r\n\" style=\"fill:none;stroke:#b0b0b0;stroke-linecap:square;stroke-width:0.8;\"/>\r\n     </g>\r\n     <g id=\"line2d_52\">\r\n      <g>\r\n       <use style=\"stroke:#000000;stroke-width:0.8;\" x=\"46.0125\" xlink:href=\"#m03c7db7095\" y=\"45.799853\"/>\r\n      </g>\r\n     </g>\r\n     <g id=\"text_11\">\r\n      <!-- 12000 -->\r\n      <g transform=\"translate(7.2 49.599071)scale(0.1 -0.1)\">\r\n       <use xlink:href=\"#DejaVuSans-49\"/>\r\n       <use x=\"63.623047\" xlink:href=\"#DejaVuSans-50\"/>\r\n       <use x=\"127.246094\" xlink:href=\"#DejaVuSans-48\"/>\r\n       <use x=\"190.869141\" xlink:href=\"#DejaVuSans-48\"/>\r\n       <use x=\"254.492188\" xlink:href=\"#DejaVuSans-48\"/>\r\n      </g>\r\n     </g>\r\n    </g>\r\n    <g id=\"ytick_8\">\r\n     <g id=\"line2d_53\">\r\n      <path clip-path=\"url(#paabb9db549)\" d=\"M 46.0125 17.09506 \r\nL 380.8125 17.09506 \r\n\" style=\"fill:none;stroke:#b0b0b0;stroke-linecap:square;stroke-width:0.8;\"/>\r\n     </g>\r\n     <g id=\"line2d_54\">\r\n      <g>\r\n       <use style=\"stroke:#000000;stroke-width:0.8;\" x=\"46.0125\" xlink:href=\"#m03c7db7095\" y=\"17.09506\"/>\r\n      </g>\r\n     </g>\r\n     <g id=\"text_12\">\r\n      <!-- 14000 -->\r\n      <g transform=\"translate(7.2 20.894279)scale(0.1 -0.1)\">\r\n       <use xlink:href=\"#DejaVuSans-49\"/>\r\n       <use x=\"63.623047\" xlink:href=\"#DejaVuSans-52\"/>\r\n       <use x=\"127.246094\" xlink:href=\"#DejaVuSans-48\"/>\r\n       <use x=\"190.869141\" xlink:href=\"#DejaVuSans-48\"/>\r\n       <use x=\"254.492188\" xlink:href=\"#DejaVuSans-48\"/>\r\n      </g>\r\n     </g>\r\n    </g>\r\n    <g id=\"ytick_9\">\r\n     <g id=\"line2d_55\">\r\n      <path clip-path=\"url(#paabb9db549)\" d=\"M 46.0125 210.85241 \r\nL 380.8125 210.85241 \r\n\" style=\"fill:none;stroke:#b0b0b0;stroke-linecap:square;stroke-width:0.8;\"/>\r\n     </g>\r\n     <g id=\"line2d_56\">\r\n      <defs>\r\n       <path d=\"M 0 0 \r\nL -2 0 \r\n\" id=\"mc2327a6310\" style=\"stroke:#000000;stroke-width:0.6;\"/>\r\n      </defs>\r\n      <g>\r\n       <use style=\"stroke:#000000;stroke-width:0.6;\" x=\"46.0125\" xlink:href=\"#mc2327a6310\" y=\"210.85241\"/>\r\n      </g>\r\n     </g>\r\n    </g>\r\n    <g id=\"ytick_10\">\r\n     <g id=\"line2d_57\">\r\n      <path clip-path=\"url(#paabb9db549)\" d=\"M 46.0125 203.676211 \r\nL 380.8125 203.676211 \r\n\" style=\"fill:none;stroke:#b0b0b0;stroke-linecap:square;stroke-width:0.8;\"/>\r\n     </g>\r\n     <g id=\"line2d_58\">\r\n      <g>\r\n       <use style=\"stroke:#000000;stroke-width:0.6;\" x=\"46.0125\" xlink:href=\"#mc2327a6310\" y=\"203.676211\"/>\r\n      </g>\r\n     </g>\r\n    </g>\r\n    <g id=\"ytick_11\">\r\n     <g id=\"line2d_59\">\r\n      <path clip-path=\"url(#paabb9db549)\" d=\"M 46.0125 196.500013 \r\nL 380.8125 196.500013 \r\n\" style=\"fill:none;stroke:#b0b0b0;stroke-linecap:square;stroke-width:0.8;\"/>\r\n     </g>\r\n     <g id=\"line2d_60\">\r\n      <g>\r\n       <use style=\"stroke:#000000;stroke-width:0.6;\" x=\"46.0125\" xlink:href=\"#mc2327a6310\" y=\"196.500013\"/>\r\n      </g>\r\n     </g>\r\n    </g>\r\n    <g id=\"ytick_12\">\r\n     <g id=\"line2d_61\">\r\n      <path clip-path=\"url(#paabb9db549)\" d=\"M 46.0125 182.147617 \r\nL 380.8125 182.147617 \r\n\" style=\"fill:none;stroke:#b0b0b0;stroke-linecap:square;stroke-width:0.8;\"/>\r\n     </g>\r\n     <g id=\"line2d_62\">\r\n      <g>\r\n       <use style=\"stroke:#000000;stroke-width:0.6;\" x=\"46.0125\" xlink:href=\"#mc2327a6310\" y=\"182.147617\"/>\r\n      </g>\r\n     </g>\r\n    </g>\r\n    <g id=\"ytick_13\">\r\n     <g id=\"line2d_63\">\r\n      <path clip-path=\"url(#paabb9db549)\" d=\"M 46.0125 174.971419 \r\nL 380.8125 174.971419 \r\n\" style=\"fill:none;stroke:#b0b0b0;stroke-linecap:square;stroke-width:0.8;\"/>\r\n     </g>\r\n     <g id=\"line2d_64\">\r\n      <g>\r\n       <use style=\"stroke:#000000;stroke-width:0.6;\" x=\"46.0125\" xlink:href=\"#mc2327a6310\" y=\"174.971419\"/>\r\n      </g>\r\n     </g>\r\n    </g>\r\n    <g id=\"ytick_14\">\r\n     <g id=\"line2d_65\">\r\n      <path clip-path=\"url(#paabb9db549)\" d=\"M 46.0125 167.795221 \r\nL 380.8125 167.795221 \r\n\" style=\"fill:none;stroke:#b0b0b0;stroke-linecap:square;stroke-width:0.8;\"/>\r\n     </g>\r\n     <g id=\"line2d_66\">\r\n      <g>\r\n       <use style=\"stroke:#000000;stroke-width:0.6;\" x=\"46.0125\" xlink:href=\"#mc2327a6310\" y=\"167.795221\"/>\r\n      </g>\r\n     </g>\r\n    </g>\r\n    <g id=\"ytick_15\">\r\n     <g id=\"line2d_67\">\r\n      <path clip-path=\"url(#paabb9db549)\" d=\"M 46.0125 153.442825 \r\nL 380.8125 153.442825 \r\n\" style=\"fill:none;stroke:#b0b0b0;stroke-linecap:square;stroke-width:0.8;\"/>\r\n     </g>\r\n     <g id=\"line2d_68\">\r\n      <g>\r\n       <use style=\"stroke:#000000;stroke-width:0.6;\" x=\"46.0125\" xlink:href=\"#mc2327a6310\" y=\"153.442825\"/>\r\n      </g>\r\n     </g>\r\n    </g>\r\n    <g id=\"ytick_16\">\r\n     <g id=\"line2d_69\">\r\n      <path clip-path=\"url(#paabb9db549)\" d=\"M 46.0125 146.266626 \r\nL 380.8125 146.266626 \r\n\" style=\"fill:none;stroke:#b0b0b0;stroke-linecap:square;stroke-width:0.8;\"/>\r\n     </g>\r\n     <g id=\"line2d_70\">\r\n      <g>\r\n       <use style=\"stroke:#000000;stroke-width:0.6;\" x=\"46.0125\" xlink:href=\"#mc2327a6310\" y=\"146.266626\"/>\r\n      </g>\r\n     </g>\r\n    </g>\r\n    <g id=\"ytick_17\">\r\n     <g id=\"line2d_71\">\r\n      <path clip-path=\"url(#paabb9db549)\" d=\"M 46.0125 139.090428 \r\nL 380.8125 139.090428 \r\n\" style=\"fill:none;stroke:#b0b0b0;stroke-linecap:square;stroke-width:0.8;\"/>\r\n     </g>\r\n     <g id=\"line2d_72\">\r\n      <g>\r\n       <use style=\"stroke:#000000;stroke-width:0.6;\" x=\"46.0125\" xlink:href=\"#mc2327a6310\" y=\"139.090428\"/>\r\n      </g>\r\n     </g>\r\n    </g>\r\n    <g id=\"ytick_18\">\r\n     <g id=\"line2d_73\">\r\n      <path clip-path=\"url(#paabb9db549)\" d=\"M 46.0125 124.738032 \r\nL 380.8125 124.738032 \r\n\" style=\"fill:none;stroke:#b0b0b0;stroke-linecap:square;stroke-width:0.8;\"/>\r\n     </g>\r\n     <g id=\"line2d_74\">\r\n      <g>\r\n       <use style=\"stroke:#000000;stroke-width:0.6;\" x=\"46.0125\" xlink:href=\"#mc2327a6310\" y=\"124.738032\"/>\r\n      </g>\r\n     </g>\r\n    </g>\r\n    <g id=\"ytick_19\">\r\n     <g id=\"line2d_75\">\r\n      <path clip-path=\"url(#paabb9db549)\" d=\"M 46.0125 117.561834 \r\nL 380.8125 117.561834 \r\n\" style=\"fill:none;stroke:#b0b0b0;stroke-linecap:square;stroke-width:0.8;\"/>\r\n     </g>\r\n     <g id=\"line2d_76\">\r\n      <g>\r\n       <use style=\"stroke:#000000;stroke-width:0.6;\" x=\"46.0125\" xlink:href=\"#mc2327a6310\" y=\"117.561834\"/>\r\n      </g>\r\n     </g>\r\n    </g>\r\n    <g id=\"ytick_20\">\r\n     <g id=\"line2d_77\">\r\n      <path clip-path=\"url(#paabb9db549)\" d=\"M 46.0125 110.385636 \r\nL 380.8125 110.385636 \r\n\" style=\"fill:none;stroke:#b0b0b0;stroke-linecap:square;stroke-width:0.8;\"/>\r\n     </g>\r\n     <g id=\"line2d_78\">\r\n      <g>\r\n       <use style=\"stroke:#000000;stroke-width:0.6;\" x=\"46.0125\" xlink:href=\"#mc2327a6310\" y=\"110.385636\"/>\r\n      </g>\r\n     </g>\r\n    </g>\r\n    <g id=\"ytick_21\">\r\n     <g id=\"line2d_79\">\r\n      <path clip-path=\"url(#paabb9db549)\" d=\"M 46.0125 96.033239 \r\nL 380.8125 96.033239 \r\n\" style=\"fill:none;stroke:#b0b0b0;stroke-linecap:square;stroke-width:0.8;\"/>\r\n     </g>\r\n     <g id=\"line2d_80\">\r\n      <g>\r\n       <use style=\"stroke:#000000;stroke-width:0.6;\" x=\"46.0125\" xlink:href=\"#mc2327a6310\" y=\"96.033239\"/>\r\n      </g>\r\n     </g>\r\n    </g>\r\n    <g id=\"ytick_22\">\r\n     <g id=\"line2d_81\">\r\n      <path clip-path=\"url(#paabb9db549)\" d=\"M 46.0125 88.857041 \r\nL 380.8125 88.857041 \r\n\" style=\"fill:none;stroke:#b0b0b0;stroke-linecap:square;stroke-width:0.8;\"/>\r\n     </g>\r\n     <g id=\"line2d_82\">\r\n      <g>\r\n       <use style=\"stroke:#000000;stroke-width:0.6;\" x=\"46.0125\" xlink:href=\"#mc2327a6310\" y=\"88.857041\"/>\r\n      </g>\r\n     </g>\r\n    </g>\r\n    <g id=\"ytick_23\">\r\n     <g id=\"line2d_83\">\r\n      <path clip-path=\"url(#paabb9db549)\" d=\"M 46.0125 81.680843 \r\nL 380.8125 81.680843 \r\n\" style=\"fill:none;stroke:#b0b0b0;stroke-linecap:square;stroke-width:0.8;\"/>\r\n     </g>\r\n     <g id=\"line2d_84\">\r\n      <g>\r\n       <use style=\"stroke:#000000;stroke-width:0.6;\" x=\"46.0125\" xlink:href=\"#mc2327a6310\" y=\"81.680843\"/>\r\n      </g>\r\n     </g>\r\n    </g>\r\n    <g id=\"ytick_24\">\r\n     <g id=\"line2d_85\">\r\n      <path clip-path=\"url(#paabb9db549)\" d=\"M 46.0125 67.328447 \r\nL 380.8125 67.328447 \r\n\" style=\"fill:none;stroke:#b0b0b0;stroke-linecap:square;stroke-width:0.8;\"/>\r\n     </g>\r\n     <g id=\"line2d_86\">\r\n      <g>\r\n       <use style=\"stroke:#000000;stroke-width:0.6;\" x=\"46.0125\" xlink:href=\"#mc2327a6310\" y=\"67.328447\"/>\r\n      </g>\r\n     </g>\r\n    </g>\r\n    <g id=\"ytick_25\">\r\n     <g id=\"line2d_87\">\r\n      <path clip-path=\"url(#paabb9db549)\" d=\"M 46.0125 60.152249 \r\nL 380.8125 60.152249 \r\n\" style=\"fill:none;stroke:#b0b0b0;stroke-linecap:square;stroke-width:0.8;\"/>\r\n     </g>\r\n     <g id=\"line2d_88\">\r\n      <g>\r\n       <use style=\"stroke:#000000;stroke-width:0.6;\" x=\"46.0125\" xlink:href=\"#mc2327a6310\" y=\"60.152249\"/>\r\n      </g>\r\n     </g>\r\n    </g>\r\n    <g id=\"ytick_26\">\r\n     <g id=\"line2d_89\">\r\n      <path clip-path=\"url(#paabb9db549)\" d=\"M 46.0125 52.976051 \r\nL 380.8125 52.976051 \r\n\" style=\"fill:none;stroke:#b0b0b0;stroke-linecap:square;stroke-width:0.8;\"/>\r\n     </g>\r\n     <g id=\"line2d_90\">\r\n      <g>\r\n       <use style=\"stroke:#000000;stroke-width:0.6;\" x=\"46.0125\" xlink:href=\"#mc2327a6310\" y=\"52.976051\"/>\r\n      </g>\r\n     </g>\r\n    </g>\r\n    <g id=\"ytick_27\">\r\n     <g id=\"line2d_91\">\r\n      <path clip-path=\"url(#paabb9db549)\" d=\"M 46.0125 38.623654 \r\nL 380.8125 38.623654 \r\n\" style=\"fill:none;stroke:#b0b0b0;stroke-linecap:square;stroke-width:0.8;\"/>\r\n     </g>\r\n     <g id=\"line2d_92\">\r\n      <g>\r\n       <use style=\"stroke:#000000;stroke-width:0.6;\" x=\"46.0125\" xlink:href=\"#mc2327a6310\" y=\"38.623654\"/>\r\n      </g>\r\n     </g>\r\n    </g>\r\n    <g id=\"ytick_28\">\r\n     <g id=\"line2d_93\">\r\n      <path clip-path=\"url(#paabb9db549)\" d=\"M 46.0125 31.447456 \r\nL 380.8125 31.447456 \r\n\" style=\"fill:none;stroke:#b0b0b0;stroke-linecap:square;stroke-width:0.8;\"/>\r\n     </g>\r\n     <g id=\"line2d_94\">\r\n      <g>\r\n       <use style=\"stroke:#000000;stroke-width:0.6;\" x=\"46.0125\" xlink:href=\"#mc2327a6310\" y=\"31.447456\"/>\r\n      </g>\r\n     </g>\r\n    </g>\r\n    <g id=\"ytick_29\">\r\n     <g id=\"line2d_95\">\r\n      <path clip-path=\"url(#paabb9db549)\" d=\"M 46.0125 24.271258 \r\nL 380.8125 24.271258 \r\n\" style=\"fill:none;stroke:#b0b0b0;stroke-linecap:square;stroke-width:0.8;\"/>\r\n     </g>\r\n     <g id=\"line2d_96\">\r\n      <g>\r\n       <use style=\"stroke:#000000;stroke-width:0.6;\" x=\"46.0125\" xlink:href=\"#mc2327a6310\" y=\"24.271258\"/>\r\n      </g>\r\n     </g>\r\n    </g>\r\n    <g id=\"ytick_30\">\r\n     <g id=\"line2d_97\">\r\n      <path clip-path=\"url(#paabb9db549)\" d=\"M 46.0125 9.918862 \r\nL 380.8125 9.918862 \r\n\" style=\"fill:none;stroke:#b0b0b0;stroke-linecap:square;stroke-width:0.8;\"/>\r\n     </g>\r\n     <g id=\"line2d_98\">\r\n      <g>\r\n       <use style=\"stroke:#000000;stroke-width:0.6;\" x=\"46.0125\" xlink:href=\"#mc2327a6310\" y=\"9.918862\"/>\r\n      </g>\r\n     </g>\r\n    </g>\r\n   </g>\r\n   <g id=\"line2d_99\">\r\n    <path clip-path=\"url(#paabb9db549)\" d=\"M 61.230682 17.083636 \r\nL 78.139773 38.951921 \r\nL 95.048864 54.738034 \r\nL 111.957955 71.079258 \r\nL 128.867045 87.923809 \r\nL 145.776136 98.816019 \r\nL 162.685227 114.206697 \r\nL 179.594318 125.098314 \r\nL 196.503409 137.857282 \r\nL 213.4125 147.768752 \r\nL 230.321591 159.122566 \r\nL 247.230682 168.51177 \r\nL 264.139773 177.826854 \r\nL 281.048864 186.574 \r\nL 297.957955 193.051398 \r\nL 314.867045 199.929823 \r\nL 331.776136 205.73142 \r\nL 348.685227 210.918977 \r\nL 365.594318 214.756364 \r\n\" style=\"fill:none;stroke:#1f77b4;stroke-linecap:square;stroke-width:1.5;\"/>\r\n    <defs>\r\n     <path d=\"M 0 3 \r\nC 0.795609 3 1.55874 2.683901 2.12132 2.12132 \r\nC 2.683901 1.55874 3 0.795609 3 0 \r\nC 3 -0.795609 2.683901 -1.55874 2.12132 -2.12132 \r\nC 1.55874 -2.683901 0.795609 -3 0 -3 \r\nC -0.795609 -3 -1.55874 -2.683901 -2.12132 -2.12132 \r\nC -2.683901 -1.55874 -3 -0.795609 -3 0 \r\nC -3 0.795609 -2.683901 1.55874 -2.12132 2.12132 \r\nC -1.55874 2.683901 -0.795609 3 0 3 \r\nz\r\n\" id=\"mba64e13d01\" style=\"stroke:#1f77b4;\"/>\r\n    </defs>\r\n    <g clip-path=\"url(#paabb9db549)\">\r\n     <use style=\"fill:#1f77b4;stroke:#1f77b4;\" x=\"61.230682\" xlink:href=\"#mba64e13d01\" y=\"17.083636\"/>\r\n     <use style=\"fill:#1f77b4;stroke:#1f77b4;\" x=\"78.139773\" xlink:href=\"#mba64e13d01\" y=\"38.951921\"/>\r\n     <use style=\"fill:#1f77b4;stroke:#1f77b4;\" x=\"95.048864\" xlink:href=\"#mba64e13d01\" y=\"54.738034\"/>\r\n     <use style=\"fill:#1f77b4;stroke:#1f77b4;\" x=\"111.957955\" xlink:href=\"#mba64e13d01\" y=\"71.079258\"/>\r\n     <use style=\"fill:#1f77b4;stroke:#1f77b4;\" x=\"128.867045\" xlink:href=\"#mba64e13d01\" y=\"87.923809\"/>\r\n     <use style=\"fill:#1f77b4;stroke:#1f77b4;\" x=\"145.776136\" xlink:href=\"#mba64e13d01\" y=\"98.816019\"/>\r\n     <use style=\"fill:#1f77b4;stroke:#1f77b4;\" x=\"162.685227\" xlink:href=\"#mba64e13d01\" y=\"114.206697\"/>\r\n     <use style=\"fill:#1f77b4;stroke:#1f77b4;\" x=\"179.594318\" xlink:href=\"#mba64e13d01\" y=\"125.098314\"/>\r\n     <use style=\"fill:#1f77b4;stroke:#1f77b4;\" x=\"196.503409\" xlink:href=\"#mba64e13d01\" y=\"137.857282\"/>\r\n     <use style=\"fill:#1f77b4;stroke:#1f77b4;\" x=\"213.4125\" xlink:href=\"#mba64e13d01\" y=\"147.768752\"/>\r\n     <use style=\"fill:#1f77b4;stroke:#1f77b4;\" x=\"230.321591\" xlink:href=\"#mba64e13d01\" y=\"159.122566\"/>\r\n     <use style=\"fill:#1f77b4;stroke:#1f77b4;\" x=\"247.230682\" xlink:href=\"#mba64e13d01\" y=\"168.51177\"/>\r\n     <use style=\"fill:#1f77b4;stroke:#1f77b4;\" x=\"264.139773\" xlink:href=\"#mba64e13d01\" y=\"177.826854\"/>\r\n     <use style=\"fill:#1f77b4;stroke:#1f77b4;\" x=\"281.048864\" xlink:href=\"#mba64e13d01\" y=\"186.574\"/>\r\n     <use style=\"fill:#1f77b4;stroke:#1f77b4;\" x=\"297.957955\" xlink:href=\"#mba64e13d01\" y=\"193.051398\"/>\r\n     <use style=\"fill:#1f77b4;stroke:#1f77b4;\" x=\"314.867045\" xlink:href=\"#mba64e13d01\" y=\"199.929823\"/>\r\n     <use style=\"fill:#1f77b4;stroke:#1f77b4;\" x=\"331.776136\" xlink:href=\"#mba64e13d01\" y=\"205.73142\"/>\r\n     <use style=\"fill:#1f77b4;stroke:#1f77b4;\" x=\"348.685227\" xlink:href=\"#mba64e13d01\" y=\"210.918977\"/>\r\n     <use style=\"fill:#1f77b4;stroke:#1f77b4;\" x=\"365.594318\" xlink:href=\"#mba64e13d01\" y=\"214.756364\"/>\r\n    </g>\r\n   </g>\r\n   <g id=\"patch_3\">\r\n    <path d=\"M 46.0125 224.64 \r\nL 46.0125 7.2 \r\n\" style=\"fill:none;stroke:#000000;stroke-linecap:square;stroke-linejoin:miter;stroke-width:0.8;\"/>\r\n   </g>\r\n   <g id=\"patch_4\">\r\n    <path d=\"M 380.8125 224.64 \r\nL 380.8125 7.2 \r\n\" style=\"fill:none;stroke:#000000;stroke-linecap:square;stroke-linejoin:miter;stroke-width:0.8;\"/>\r\n   </g>\r\n   <g id=\"patch_5\">\r\n    <path d=\"M 46.0125 224.64 \r\nL 380.8125 224.64 \r\n\" style=\"fill:none;stroke:#000000;stroke-linecap:square;stroke-linejoin:miter;stroke-width:0.8;\"/>\r\n   </g>\r\n   <g id=\"patch_6\">\r\n    <path d=\"M 46.0125 7.2 \r\nL 380.8125 7.2 \r\n\" style=\"fill:none;stroke:#000000;stroke-linecap:square;stroke-linejoin:miter;stroke-width:0.8;\"/>\r\n   </g>\r\n  </g>\r\n </g>\r\n <defs>\r\n  <clipPath id=\"paabb9db549\">\r\n   <rect height=\"217.44\" width=\"334.8\" x=\"46.0125\" y=\"7.2\"/>\r\n  </clipPath>\r\n </defs>\r\n</svg>\r\n",
      "image/png": "[encoded data removed]"
     },
     "metadata": {
      "needs_background": "light"
     }
    }
   ],
   "source": [
    "from sklearn.cluster import KMeans\n",
    "from matplotlib import pyplot as plt\n",
    "\n",
    "K = range(5, 100, 5)\n",
    "inertias = []\n",
    "for km in K:\n",
    "    test_kmeans = KMeans(n_clusters=km)\n",
    "    test_kmeans.fit(data_df)\n",
    "    inertias.append(test_kmeans.inertia_)\n",
    "\n",
    "plt.plot(K, inertias, '-o')\n",
    "plt.grid(which='both')\n",
    "plt.minorticks_on()\n"
   ]
  },
  {
   "source": [
    "There doesn't seem to be any \"elbow\", so we can pick a value that seems reasonable enough to us - we don't want the inertia to be too high, but we also don't want to have too many clusters that we lose meaning of neighborhood groupings. Let's choose k=15."
   ],
   "cell_type": "markdown",
   "metadata": {}
  },
  {
   "cell_type": "code",
   "execution_count": 27,
   "metadata": {},
   "outputs": [
    {
     "output_type": "execute_result",
     "data": {
      "text/plain": [
       "KMeans(n_clusters=10, random_state=37)"
      ]
     },
     "metadata": {},
     "execution_count": 27
    }
   ],
   "source": [
    "CLUSTERS = 10\n",
    "kmeans = KMeans(n_clusters=CLUSTERS, random_state=37)\n",
    "kmeans.fit(data_df)"
   ]
  },
  {
   "cell_type": "code",
   "execution_count": 28,
   "metadata": {},
   "outputs": [
    {
     "output_type": "execute_result",
     "data": {
      "text/plain": [
       "             cluster  location.lat  location.lng  American  Apparel  \\\n",
       "postal_code                                                           \n",
       "M1B                1     43.801495    -79.197239       0.0      0.0   \n",
       "M1C                9     43.783213    -79.164095       0.0      0.0   \n",
       "M1E                6     43.769750    -79.186351       0.0      0.0   \n",
       "M1G                6     43.766215    -79.215810       0.0      0.0   \n",
       "M1H                6     43.775645    -79.241100       0.0      0.0   \n",
       "\n",
       "             ArtGallery  Arts&Crafts     Asian  Athletics&Sports  BBQ  ...  \\\n",
       "postal_code                                                            ...   \n",
       "M1B                 0.0         0.05  0.000000          0.000000  0.0  ...   \n",
       "M1C                 0.0         0.00  0.000000          0.000000  0.0  ...   \n",
       "M1E                 0.0         0.00  0.000000          0.000000  0.0  ...   \n",
       "M1G                 0.0         0.00  0.000000          0.000000  0.0  ...   \n",
       "M1H                 0.0         0.00  0.027027          0.027027  0.0  ...   \n",
       "\n",
       "             Thrift/Vintage  Toys&Games  Trail  TrainStation  Turkish  \\\n",
       "postal_code                                                             \n",
       "M1B                     0.0         0.0    0.1           0.0      0.0   \n",
       "M1C                     0.0         0.0    0.0           0.0      0.0   \n",
       "M1E                     0.0         0.0    0.0           0.0      0.0   \n",
       "M1G                     0.0         0.0    0.0           0.0      0.0   \n",
       "M1H                     0.0         0.0    0.0           0.0      0.0   \n",
       "\n",
       "             Vegetarian/Vegan  Vietnamese  WineBar     Wings  YogaStudio  \n",
       "postal_code                                                               \n",
       "M1B                       0.0         0.0      0.0  0.000000    0.000000  \n",
       "M1C                       0.0         0.0      0.0  0.000000    0.000000  \n",
       "M1E                       0.0         0.0      0.0  0.000000    0.000000  \n",
       "M1G                       0.0         0.0      0.0  0.000000    0.000000  \n",
       "M1H                       0.0         0.0      0.0  0.027027    0.027027  \n",
       "\n",
       "[5 rows x 158 columns]"
      ],
      "text/html": "<div>\n<style scoped>\n    .dataframe tbody tr th:only-of-type {\n        vertical-align: middle;\n    }\n\n    .dataframe tbody tr th {\n        vertical-align: top;\n    }\n\n    .dataframe thead th {\n        text-align: right;\n    }\n</style>\n<table border=\"1\" class=\"dataframe\">\n  <thead>\n    <tr style=\"text-align: right;\">\n      <th></th>\n      <th>cluster</th>\n      <th>location.lat</th>\n      <th>location.lng</th>\n      <th>American</th>\n      <th>Apparel</th>\n      <th>ArtGallery</th>\n      <th>Arts&amp;Crafts</th>\n      <th>Asian</th>\n      <th>Athletics&amp;Sports</th>\n      <th>BBQ</th>\n      <th>...</th>\n      <th>Thrift/Vintage</th>\n      <th>Toys&amp;Games</th>\n      <th>Trail</th>\n      <th>TrainStation</th>\n      <th>Turkish</th>\n      <th>Vegetarian/Vegan</th>\n      <th>Vietnamese</th>\n      <th>WineBar</th>\n      <th>Wings</th>\n      <th>YogaStudio</th>\n    </tr>\n    <tr>\n      <th>postal_code</th>\n      <th></th>\n      <th></th>\n      <th></th>\n      <th></th>\n      <th></th>\n      <th></th>\n      <th></th>\n      <th></th>\n      <th></th>\n      <th></th>\n      <th></th>\n      <th></th>\n      <th></th>\n      <th></th>\n      <th></th>\n      <th></th>\n      <th></th>\n      <th></th>\n      <th></th>\n      <th></th>\n      <th></th>\n    </tr>\n  </thead>\n  <tbody>\n    <tr>\n      <th>M1B</th>\n      <td>1</td>\n      <td>43.801495</td>\n      <td>-79.197239</td>\n      <td>0.0</td>\n      <td>0.0</td>\n      <td>0.0</td>\n      <td>0.05</td>\n      <td>0.000000</td>\n      <td>0.000000</td>\n      <td>0.0</td>\n      <td>...</td>\n      <td>0.0</td>\n      <td>0.0</td>\n      <td>0.1</td>\n      <td>0.0</td>\n      <td>0.0</td>\n      <td>0.0</td>\n      <td>0.0</td>\n      <td>0.0</td>\n      <td>0.000000</td>\n      <td>0.000000</td>\n    </tr>\n    <tr>\n      <th>M1C</th>\n      <td>9</td>\n      <td>43.783213</td>\n      <td>-79.164095</td>\n      <td>0.0</td>\n      <td>0.0</td>\n      <td>0.0</td>\n      <td>0.00</td>\n      <td>0.000000</td>\n      <td>0.000000</td>\n      <td>0.0</td>\n      <td>...</td>\n      <td>0.0</td>\n      <td>0.0</td>\n      <td>0.0</td>\n      <td>0.0</td>\n      <td>0.0</td>\n      <td>0.0</td>\n      <td>0.0</td>\n      <td>0.0</td>\n      <td>0.000000</td>\n      <td>0.000000</td>\n    </tr>\n    <tr>\n      <th>M1E</th>\n      <td>6</td>\n      <td>43.769750</td>\n      <td>-79.186351</td>\n      <td>0.0</td>\n      <td>0.0</td>\n      <td>0.0</td>\n      <td>0.00</td>\n      <td>0.000000</td>\n      <td>0.000000</td>\n      <td>0.0</td>\n      <td>...</td>\n      <td>0.0</td>\n      <td>0.0</td>\n      <td>0.0</td>\n      <td>0.0</td>\n      <td>0.0</td>\n      <td>0.0</td>\n      <td>0.0</td>\n      <td>0.0</td>\n      <td>0.000000</td>\n      <td>0.000000</td>\n    </tr>\n    <tr>\n      <th>M1G</th>\n      <td>6</td>\n      <td>43.766215</td>\n      <td>-79.215810</td>\n      <td>0.0</td>\n      <td>0.0</td>\n      <td>0.0</td>\n      <td>0.00</td>\n      <td>0.000000</td>\n      <td>0.000000</td>\n      <td>0.0</td>\n      <td>...</td>\n      <td>0.0</td>\n      <td>0.0</td>\n      <td>0.0</td>\n      <td>0.0</td>\n      <td>0.0</td>\n      <td>0.0</td>\n      <td>0.0</td>\n      <td>0.0</td>\n      <td>0.000000</td>\n      <td>0.000000</td>\n    </tr>\n    <tr>\n      <th>M1H</th>\n      <td>6</td>\n      <td>43.775645</td>\n      <td>-79.241100</td>\n      <td>0.0</td>\n      <td>0.0</td>\n      <td>0.0</td>\n      <td>0.00</td>\n      <td>0.027027</td>\n      <td>0.027027</td>\n      <td>0.0</td>\n      <td>...</td>\n      <td>0.0</td>\n      <td>0.0</td>\n      <td>0.0</td>\n      <td>0.0</td>\n      <td>0.0</td>\n      <td>0.0</td>\n      <td>0.0</td>\n      <td>0.0</td>\n      <td>0.027027</td>\n      <td>0.027027</td>\n    </tr>\n  </tbody>\n</table>\n<p>5 rows × 158 columns</p>\n</div>"
     },
     "metadata": {},
     "execution_count": 28
    }
   ],
   "source": [
    "clustered_df = nhood_df\n",
    "clustered_df.insert(0, 'cluster', kmeans.labels_)\n",
    "clustered_df.head()"
   ]
  },
  {
   "cell_type": "code",
   "execution_count": 29,
   "metadata": {},
   "outputs": [
    {
     "output_type": "execute_result",
     "data": {
      "text/plain": [
       "   location.lat  location.lng  American   Apparel  ArtGallery  Arts&Crafts  \\\n",
       "0     43.702381    -79.398585  0.055829 -0.210578    0.429995     0.457936   \n",
       "1     43.706712    -79.395994 -0.215203 -0.086693   -0.425204     0.099763   \n",
       "2     43.701334    -79.395752  0.915320 -0.154189    1.651706    -0.034646   \n",
       "3     43.703494    -79.408930  0.003539 -0.013790   -0.425204    -0.346667   \n",
       "4     43.707193    -79.397946 -0.061871 -0.307955   -0.425204     0.612138   \n",
       "5     43.702042    -79.395907  0.288213  0.453851    0.627340    -0.094337   \n",
       "6     43.705898    -79.389702 -0.204196  0.323173   -0.301058    -0.277371   \n",
       "7     43.700666    -79.397370 -0.575663 -0.307955   -0.425204    -0.346667   \n",
       "8     43.702853    -79.395950 -0.575663 -0.307955   -0.425204    -0.346667   \n",
       "9     43.708398    -79.375030 -0.575663 -0.307955   -0.425204    -0.346667   \n",
       "\n",
       "      Asian  Athletics&Sports       BBQ    Bagels  ...  Thrift/Vintage  \\\n",
       "0 -0.046785         -0.115936  0.202719 -0.016491  ...        0.140018   \n",
       "1  0.741887         -0.309208 -0.218503  1.161285  ...       -0.193473   \n",
       "2  0.092041         -0.309208  0.070122 -0.303142  ...       -0.193473   \n",
       "3 -0.347816          0.141557 -0.289672 -0.123696  ...        0.128977   \n",
       "4 -0.445659          0.163566  0.272700 -0.303142  ...       -0.193473   \n",
       "5 -0.445659         -0.309208 -0.154797 -0.303142  ...       -0.193473   \n",
       "6  0.171585          0.250180  0.051894 -0.211510  ...        0.052203   \n",
       "7 -0.445659         -0.309208 -0.452941 -0.303142  ...       -0.193473   \n",
       "8 -0.445659          0.977786  2.086802 -0.303142  ...       -0.193473   \n",
       "9 -0.445659         -0.309208 -0.452941 -0.303142  ...       -0.193473   \n",
       "\n",
       "   Toys&Games     Trail  TrainStation   Turkish  Vegetarian/Vegan  Vietnamese  \\\n",
       "0    0.581706 -0.171039     -0.203439 -0.109376          0.794029   -0.009260   \n",
       "1   -0.229645  0.917321     -0.236380 -0.166126         -0.358555   -0.142762   \n",
       "2   -0.229645 -0.279359      0.381332 -0.166126          0.833332   -0.324442   \n",
       "3   -0.229645 -0.195836      0.164344  0.252968         -0.478714    0.569669   \n",
       "4   -0.229645  0.743367     -0.236380  0.632148         -0.032410    0.110480   \n",
       "5   -0.229645 -0.279359     -0.236380 -0.166126          0.071405   -0.147813   \n",
       "6    0.002504 -0.199177      0.190270 -0.090419         -0.343752   -0.231968   \n",
       "7   -0.229645 -0.279359     -0.236380 -0.166126         -0.478714   -0.324442   \n",
       "8   -0.229645 -0.279359     -0.236380 -0.166126         -0.478714   -0.324442   \n",
       "9   -0.229645 -0.279359     -0.236380 -0.166126         -0.478714   -0.324442   \n",
       "\n",
       "    WineBar     Wings  YogaStudio  \n",
       "0  0.708803 -0.073815    0.798386  \n",
       "1 -0.312819  0.229767   -0.487917  \n",
       "2 -0.312819 -0.253846   -0.160207  \n",
       "3 -0.312819  0.112453   -0.487917  \n",
       "4 -0.312819 -0.040261   -0.310208  \n",
       "5  0.739604 -0.253846    1.367204  \n",
       "6 -0.312819  0.029251   -0.225598  \n",
       "7 -0.312819 -0.253846   -0.487917  \n",
       "8  4.169723 -0.253846    1.769638  \n",
       "9 -0.312819 -0.253846   -0.487917  \n",
       "\n",
       "[10 rows x 157 columns]"
      ],
      "text/html": "<div>\n<style scoped>\n    .dataframe tbody tr th:only-of-type {\n        vertical-align: middle;\n    }\n\n    .dataframe tbody tr th {\n        vertical-align: top;\n    }\n\n    .dataframe thead th {\n        text-align: right;\n    }\n</style>\n<table border=\"1\" class=\"dataframe\">\n  <thead>\n    <tr style=\"text-align: right;\">\n      <th></th>\n      <th>location.lat</th>\n      <th>location.lng</th>\n      <th>American</th>\n      <th>Apparel</th>\n      <th>ArtGallery</th>\n      <th>Arts&amp;Crafts</th>\n      <th>Asian</th>\n      <th>Athletics&amp;Sports</th>\n      <th>BBQ</th>\n      <th>Bagels</th>\n      <th>...</th>\n      <th>Thrift/Vintage</th>\n      <th>Toys&amp;Games</th>\n      <th>Trail</th>\n      <th>TrainStation</th>\n      <th>Turkish</th>\n      <th>Vegetarian/Vegan</th>\n      <th>Vietnamese</th>\n      <th>WineBar</th>\n      <th>Wings</th>\n      <th>YogaStudio</th>\n    </tr>\n  </thead>\n  <tbody>\n    <tr>\n      <th>0</th>\n      <td>43.702381</td>\n      <td>-79.398585</td>\n      <td>0.055829</td>\n      <td>-0.210578</td>\n      <td>0.429995</td>\n      <td>0.457936</td>\n      <td>-0.046785</td>\n      <td>-0.115936</td>\n      <td>0.202719</td>\n      <td>-0.016491</td>\n      <td>...</td>\n      <td>0.140018</td>\n      <td>0.581706</td>\n      <td>-0.171039</td>\n      <td>-0.203439</td>\n      <td>-0.109376</td>\n      <td>0.794029</td>\n      <td>-0.009260</td>\n      <td>0.708803</td>\n      <td>-0.073815</td>\n      <td>0.798386</td>\n    </tr>\n    <tr>\n      <th>1</th>\n      <td>43.706712</td>\n      <td>-79.395994</td>\n      <td>-0.215203</td>\n      <td>-0.086693</td>\n      <td>-0.425204</td>\n      <td>0.099763</td>\n      <td>0.741887</td>\n      <td>-0.309208</td>\n      <td>-0.218503</td>\n      <td>1.161285</td>\n      <td>...</td>\n      <td>-0.193473</td>\n      <td>-0.229645</td>\n      <td>0.917321</td>\n      <td>-0.236380</td>\n      <td>-0.166126</td>\n      <td>-0.358555</td>\n      <td>-0.142762</td>\n      <td>-0.312819</td>\n      <td>0.229767</td>\n      <td>-0.487917</td>\n    </tr>\n    <tr>\n      <th>2</th>\n      <td>43.701334</td>\n      <td>-79.395752</td>\n      <td>0.915320</td>\n      <td>-0.154189</td>\n      <td>1.651706</td>\n      <td>-0.034646</td>\n      <td>0.092041</td>\n      <td>-0.309208</td>\n      <td>0.070122</td>\n      <td>-0.303142</td>\n      <td>...</td>\n      <td>-0.193473</td>\n      <td>-0.229645</td>\n      <td>-0.279359</td>\n      <td>0.381332</td>\n      <td>-0.166126</td>\n      <td>0.833332</td>\n      <td>-0.324442</td>\n      <td>-0.312819</td>\n      <td>-0.253846</td>\n      <td>-0.160207</td>\n    </tr>\n    <tr>\n      <th>3</th>\n      <td>43.703494</td>\n      <td>-79.408930</td>\n      <td>0.003539</td>\n      <td>-0.013790</td>\n      <td>-0.425204</td>\n      <td>-0.346667</td>\n      <td>-0.347816</td>\n      <td>0.141557</td>\n      <td>-0.289672</td>\n      <td>-0.123696</td>\n      <td>...</td>\n      <td>0.128977</td>\n      <td>-0.229645</td>\n      <td>-0.195836</td>\n      <td>0.164344</td>\n      <td>0.252968</td>\n      <td>-0.478714</td>\n      <td>0.569669</td>\n      <td>-0.312819</td>\n      <td>0.112453</td>\n      <td>-0.487917</td>\n    </tr>\n    <tr>\n      <th>4</th>\n      <td>43.707193</td>\n      <td>-79.397946</td>\n      <td>-0.061871</td>\n      <td>-0.307955</td>\n      <td>-0.425204</td>\n      <td>0.612138</td>\n      <td>-0.445659</td>\n      <td>0.163566</td>\n      <td>0.272700</td>\n      <td>-0.303142</td>\n      <td>...</td>\n      <td>-0.193473</td>\n      <td>-0.229645</td>\n      <td>0.743367</td>\n      <td>-0.236380</td>\n      <td>0.632148</td>\n      <td>-0.032410</td>\n      <td>0.110480</td>\n      <td>-0.312819</td>\n      <td>-0.040261</td>\n      <td>-0.310208</td>\n    </tr>\n    <tr>\n      <th>5</th>\n      <td>43.702042</td>\n      <td>-79.395907</td>\n      <td>0.288213</td>\n      <td>0.453851</td>\n      <td>0.627340</td>\n      <td>-0.094337</td>\n      <td>-0.445659</td>\n      <td>-0.309208</td>\n      <td>-0.154797</td>\n      <td>-0.303142</td>\n      <td>...</td>\n      <td>-0.193473</td>\n      <td>-0.229645</td>\n      <td>-0.279359</td>\n      <td>-0.236380</td>\n      <td>-0.166126</td>\n      <td>0.071405</td>\n      <td>-0.147813</td>\n      <td>0.739604</td>\n      <td>-0.253846</td>\n      <td>1.367204</td>\n    </tr>\n    <tr>\n      <th>6</th>\n      <td>43.705898</td>\n      <td>-79.389702</td>\n      <td>-0.204196</td>\n      <td>0.323173</td>\n      <td>-0.301058</td>\n      <td>-0.277371</td>\n      <td>0.171585</td>\n      <td>0.250180</td>\n      <td>0.051894</td>\n      <td>-0.211510</td>\n      <td>...</td>\n      <td>0.052203</td>\n      <td>0.002504</td>\n      <td>-0.199177</td>\n      <td>0.190270</td>\n      <td>-0.090419</td>\n      <td>-0.343752</td>\n      <td>-0.231968</td>\n      <td>-0.312819</td>\n      <td>0.029251</td>\n      <td>-0.225598</td>\n    </tr>\n    <tr>\n      <th>7</th>\n      <td>43.700666</td>\n      <td>-79.397370</td>\n      <td>-0.575663</td>\n      <td>-0.307955</td>\n      <td>-0.425204</td>\n      <td>-0.346667</td>\n      <td>-0.445659</td>\n      <td>-0.309208</td>\n      <td>-0.452941</td>\n      <td>-0.303142</td>\n      <td>...</td>\n      <td>-0.193473</td>\n      <td>-0.229645</td>\n      <td>-0.279359</td>\n      <td>-0.236380</td>\n      <td>-0.166126</td>\n      <td>-0.478714</td>\n      <td>-0.324442</td>\n      <td>-0.312819</td>\n      <td>-0.253846</td>\n      <td>-0.487917</td>\n    </tr>\n    <tr>\n      <th>8</th>\n      <td>43.702853</td>\n      <td>-79.395950</td>\n      <td>-0.575663</td>\n      <td>-0.307955</td>\n      <td>-0.425204</td>\n      <td>-0.346667</td>\n      <td>-0.445659</td>\n      <td>0.977786</td>\n      <td>2.086802</td>\n      <td>-0.303142</td>\n      <td>...</td>\n      <td>-0.193473</td>\n      <td>-0.229645</td>\n      <td>-0.279359</td>\n      <td>-0.236380</td>\n      <td>-0.166126</td>\n      <td>-0.478714</td>\n      <td>-0.324442</td>\n      <td>4.169723</td>\n      <td>-0.253846</td>\n      <td>1.769638</td>\n    </tr>\n    <tr>\n      <th>9</th>\n      <td>43.708398</td>\n      <td>-79.375030</td>\n      <td>-0.575663</td>\n      <td>-0.307955</td>\n      <td>-0.425204</td>\n      <td>-0.346667</td>\n      <td>-0.445659</td>\n      <td>-0.309208</td>\n      <td>-0.452941</td>\n      <td>-0.303142</td>\n      <td>...</td>\n      <td>-0.193473</td>\n      <td>-0.229645</td>\n      <td>-0.279359</td>\n      <td>-0.236380</td>\n      <td>-0.166126</td>\n      <td>-0.478714</td>\n      <td>-0.324442</td>\n      <td>-0.312819</td>\n      <td>-0.253846</td>\n      <td>-0.487917</td>\n    </tr>\n  </tbody>\n</table>\n<p>10 rows × 157 columns</p>\n</div>"
     },
     "metadata": {},
     "execution_count": 29
    }
   ],
   "source": [
    "centroid_df = pd.DataFrame(kmeans.cluster_centers_, columns = data_df_columns)\n",
    "centroid_df['location.lat'] = (centroid_df['location.lat']/LOCATION_WEIGHT_FACTOR)*lat_var + lat_mean\n",
    "centroid_df['location.lng'] = (centroid_df['location.lng']/LOCATION_WEIGHT_FACTOR)*lng_var + lng_mean\n",
    "centroid_df"
   ]
  },
  {
   "source": [
    "For a quick sanity check, let's use the example of Greektown, a neighborhood in Toronto. Greektown has a high concentration of Greek restaurants and businesses, and is located in the West Danforth neighborhood (with a postcode of M1K). "
   ],
   "cell_type": "markdown",
   "metadata": {}
  },
  {
   "cell_type": "code",
   "execution_count": 30,
   "metadata": {},
   "outputs": [
    {
     "output_type": "stream",
     "name": "stdout",
     "text": [
      "             cluster   Chinese\npostal_code                   \nM1S                1  0.200000\nM1V                4  0.148148\nM1W                6  0.147059\nM1K                6  0.083333\nM2K                1  0.076923\n...              ...       ...\nM4W                8  0.000000\nM4V                0  0.000000\nM4T                0  0.000000\nM4S                0  0.000000\nM9W                6  0.000000\n\n[103 rows x 2 columns]\n5   -0.483372\n7   -0.483372\n8   -0.483372\n9   -0.483372\n2   -0.442722\n0   -0.350447\n3   -0.150258\n6    0.138468\n1    0.717602\n4    0.761889\nName: Chinese, dtype: float64\n"
     ]
    }
   ],
   "source": [
    "print(nhood_df[['cluster', 'Chinese']].sort_values(by='Chinese', ascending=False))\n",
    "print(centroid_df.loc[:, 'Chinese'].sort_values().tail(10))"
   ]
  },
  {
   "source": [
    "Now, let's make a table listing the 5 most defining categories for each cluster - in other words, the categories with the highest values."
   ],
   "cell_type": "markdown",
   "metadata": {}
  },
  {
   "cell_type": "code",
   "execution_count": 31,
   "metadata": {},
   "outputs": [
    {
     "output_type": "execute_result",
     "data": {
      "text/plain": [
       "   location.lat  location.lng              1              2                 3  \\\n",
       "0     43.702381    -79.398585            Bar          Tacos               Spa   \n",
       "1     43.706712    -79.395994         Bagels  MiddleEastern          Filipino   \n",
       "2     43.701334    -79.395752         Tailor       Fountain        Basketball   \n",
       "3     43.703494    -79.408930   GroceryStore       Pharmacy  ConvenienceStore   \n",
       "4     43.707193    -79.397946      FoodCourt      BubbleTea       Gym/Fitness   \n",
       "5     43.702042    -79.395907   HistoricSite         GayBar         ComicShop   \n",
       "6     43.705898    -79.389702         Indian       FastFood     SportingGoods   \n",
       "7     43.700666    -79.397370  ScenicLookout         DogRun     Harbor/Marina   \n",
       "8     43.702853    -79.395950   Neighborhood     CandyStore            Bistro   \n",
       "9     43.708398    -79.375030     Playground        Burgers         Breakfast   \n",
       "\n",
       "             4                 5  \n",
       "0  IndieMovies               Pub  \n",
       "1        Trail    OfficeSupplies  \n",
       "2   ITServices       ConcertHall  \n",
       "3   GasStation             Pizza  \n",
       "4          Gym        CoffeeShop  \n",
       "5   Men'sStore          Creperie  \n",
       "6   Sandwiches          IceCream  \n",
       "7       Garden       DanceStudio  \n",
       "8      WineBar  Salon/Barbershop  \n",
       "9      Italian              Park  "
      ],
      "text/html": "<div>\n<style scoped>\n    .dataframe tbody tr th:only-of-type {\n        vertical-align: middle;\n    }\n\n    .dataframe tbody tr th {\n        vertical-align: top;\n    }\n\n    .dataframe thead th {\n        text-align: right;\n    }\n</style>\n<table border=\"1\" class=\"dataframe\">\n  <thead>\n    <tr style=\"text-align: right;\">\n      <th></th>\n      <th>location.lat</th>\n      <th>location.lng</th>\n      <th>1</th>\n      <th>2</th>\n      <th>3</th>\n      <th>4</th>\n      <th>5</th>\n    </tr>\n  </thead>\n  <tbody>\n    <tr>\n      <th>0</th>\n      <td>43.702381</td>\n      <td>-79.398585</td>\n      <td>Bar</td>\n      <td>Tacos</td>\n      <td>Spa</td>\n      <td>IndieMovies</td>\n      <td>Pub</td>\n    </tr>\n    <tr>\n      <th>1</th>\n      <td>43.706712</td>\n      <td>-79.395994</td>\n      <td>Bagels</td>\n      <td>MiddleEastern</td>\n      <td>Filipino</td>\n      <td>Trail</td>\n      <td>OfficeSupplies</td>\n    </tr>\n    <tr>\n      <th>2</th>\n      <td>43.701334</td>\n      <td>-79.395752</td>\n      <td>Tailor</td>\n      <td>Fountain</td>\n      <td>Basketball</td>\n      <td>ITServices</td>\n      <td>ConcertHall</td>\n    </tr>\n    <tr>\n      <th>3</th>\n      <td>43.703494</td>\n      <td>-79.408930</td>\n      <td>GroceryStore</td>\n      <td>Pharmacy</td>\n      <td>ConvenienceStore</td>\n      <td>GasStation</td>\n      <td>Pizza</td>\n    </tr>\n    <tr>\n      <th>4</th>\n      <td>43.707193</td>\n      <td>-79.397946</td>\n      <td>FoodCourt</td>\n      <td>BubbleTea</td>\n      <td>Gym/Fitness</td>\n      <td>Gym</td>\n      <td>CoffeeShop</td>\n    </tr>\n    <tr>\n      <th>5</th>\n      <td>43.702042</td>\n      <td>-79.395907</td>\n      <td>HistoricSite</td>\n      <td>GayBar</td>\n      <td>ComicShop</td>\n      <td>Men'sStore</td>\n      <td>Creperie</td>\n    </tr>\n    <tr>\n      <th>6</th>\n      <td>43.705898</td>\n      <td>-79.389702</td>\n      <td>Indian</td>\n      <td>FastFood</td>\n      <td>SportingGoods</td>\n      <td>Sandwiches</td>\n      <td>IceCream</td>\n    </tr>\n    <tr>\n      <th>7</th>\n      <td>43.700666</td>\n      <td>-79.397370</td>\n      <td>ScenicLookout</td>\n      <td>DogRun</td>\n      <td>Harbor/Marina</td>\n      <td>Garden</td>\n      <td>DanceStudio</td>\n    </tr>\n    <tr>\n      <th>8</th>\n      <td>43.702853</td>\n      <td>-79.395950</td>\n      <td>Neighborhood</td>\n      <td>CandyStore</td>\n      <td>Bistro</td>\n      <td>WineBar</td>\n      <td>Salon/Barbershop</td>\n    </tr>\n    <tr>\n      <th>9</th>\n      <td>43.708398</td>\n      <td>-79.375030</td>\n      <td>Playground</td>\n      <td>Burgers</td>\n      <td>Breakfast</td>\n      <td>Italian</td>\n      <td>Park</td>\n    </tr>\n  </tbody>\n</table>\n</div>"
     },
     "metadata": {},
     "execution_count": 31
    }
   ],
   "source": [
    "N = 5\n",
    "\n",
    "centroid_categories = centroid_df.drop(['location.lat', 'location.lng'], axis=1)\n",
    "# get the top N columns for each centroid\n",
    "sorted_categories = np.argsort(-centroid_categories, axis=1)\n",
    "categories = centroid_categories.columns[sorted_categories][:, :N]\n",
    "# join the (k, N) matrix of top N columns for each mean k with the (k, 2) matrix corresponding to\n",
    "# the latitude and longitude of each mean\n",
    "centroid_topN_df = pd.concat([centroid_df[['location.lat', 'location.lng']], \n",
    "                            pd.DataFrame(categories, columns=list(range(N + 1)[1:]))], axis=1)\n",
    "centroid_topN_df\n"
   ]
  },
  {
   "source": [
    "Finally, let's add a scale factor to each mean based on the number of points it contains. This will help us display the means better on the map."
   ],
   "cell_type": "markdown",
   "metadata": {}
  },
  {
   "cell_type": "code",
   "execution_count": 32,
   "metadata": {},
   "outputs": [
    {
     "output_type": "stream",
     "name": "stdout",
     "text": [
      "         location.lat  location.lng  American  Apparel  ArtGallery  \\\ncluster                                                              \n0                  22            22        22       22          22   \n1                  13            13        13       13          13   \n2                   8             8         8        8           8   \n3                  20            20        20       20          20   \n4                   7             7         7        7           7   \n\n         Arts&Crafts  Asian  Athletics&Sports  BBQ  Bagels  ...  \\\ncluster                                                     ...   \n0                 22     22                22   22      22  ...   \n1                 13     13                13   13      13  ...   \n2                  8      8                 8    8       8  ...   \n3                 20     20                20   20      20  ...   \n4                  7      7                 7    7       7  ...   \n\n         Thrift/Vintage  Toys&Games  Trail  TrainStation  Turkish  \\\ncluster                                                             \n0                    22          22     22            22       22   \n1                    13          13     13            13       13   \n2                     8           8      8             8        8   \n3                    20          20     20            20       20   \n4                     7           7      7             7        7   \n\n         Vegetarian/Vegan  Vietnamese  WineBar  Wings  YogaStudio  \ncluster                                                            \n0                      22          22       22     22          22  \n1                      13          13       13     13          13  \n2                       8           8        8      8           8  \n3                      20          20       20     20          20  \n4                       7           7        7      7           7  \n\n[5 rows x 157 columns]\n"
     ]
    },
    {
     "output_type": "execute_result",
     "data": {
      "text/plain": [
       "   location.lat  location.lng              1              2                 3  \\\n",
       "0     43.702381    -79.398585            Bar          Tacos               Spa   \n",
       "1     43.706712    -79.395994         Bagels  MiddleEastern          Filipino   \n",
       "2     43.701334    -79.395752         Tailor       Fountain        Basketball   \n",
       "3     43.703494    -79.408930   GroceryStore       Pharmacy  ConvenienceStore   \n",
       "4     43.707193    -79.397946      FoodCourt      BubbleTea       Gym/Fitness   \n",
       "5     43.702042    -79.395907   HistoricSite         GayBar         ComicShop   \n",
       "6     43.705898    -79.389702         Indian       FastFood     SportingGoods   \n",
       "7     43.700666    -79.397370  ScenicLookout         DogRun     Harbor/Marina   \n",
       "8     43.702853    -79.395950   Neighborhood     CandyStore            Bistro   \n",
       "9     43.708398    -79.375030     Playground        Burgers         Breakfast   \n",
       "\n",
       "             4                 5     scale  \n",
       "0  IndieMovies               Pub  0.213592  \n",
       "1        Trail    OfficeSupplies  0.126214  \n",
       "2   ITServices       ConcertHall  0.077670  \n",
       "3   GasStation             Pizza  0.194175  \n",
       "4          Gym        CoffeeShop  0.067961  \n",
       "5   Men'sStore          Creperie  0.048544  \n",
       "6   Sandwiches          IceCream  0.242718  \n",
       "7       Garden       DanceStudio  0.009709  \n",
       "8      WineBar  Salon/Barbershop  0.009709  \n",
       "9      Italian              Park  0.009709  "
      ],
      "text/html": "<div>\n<style scoped>\n    .dataframe tbody tr th:only-of-type {\n        vertical-align: middle;\n    }\n\n    .dataframe tbody tr th {\n        vertical-align: top;\n    }\n\n    .dataframe thead th {\n        text-align: right;\n    }\n</style>\n<table border=\"1\" class=\"dataframe\">\n  <thead>\n    <tr style=\"text-align: right;\">\n      <th></th>\n      <th>location.lat</th>\n      <th>location.lng</th>\n      <th>1</th>\n      <th>2</th>\n      <th>3</th>\n      <th>4</th>\n      <th>5</th>\n      <th>scale</th>\n    </tr>\n  </thead>\n  <tbody>\n    <tr>\n      <th>0</th>\n      <td>43.702381</td>\n      <td>-79.398585</td>\n      <td>Bar</td>\n      <td>Tacos</td>\n      <td>Spa</td>\n      <td>IndieMovies</td>\n      <td>Pub</td>\n      <td>0.213592</td>\n    </tr>\n    <tr>\n      <th>1</th>\n      <td>43.706712</td>\n      <td>-79.395994</td>\n      <td>Bagels</td>\n      <td>MiddleEastern</td>\n      <td>Filipino</td>\n      <td>Trail</td>\n      <td>OfficeSupplies</td>\n      <td>0.126214</td>\n    </tr>\n    <tr>\n      <th>2</th>\n      <td>43.701334</td>\n      <td>-79.395752</td>\n      <td>Tailor</td>\n      <td>Fountain</td>\n      <td>Basketball</td>\n      <td>ITServices</td>\n      <td>ConcertHall</td>\n      <td>0.077670</td>\n    </tr>\n    <tr>\n      <th>3</th>\n      <td>43.703494</td>\n      <td>-79.408930</td>\n      <td>GroceryStore</td>\n      <td>Pharmacy</td>\n      <td>ConvenienceStore</td>\n      <td>GasStation</td>\n      <td>Pizza</td>\n      <td>0.194175</td>\n    </tr>\n    <tr>\n      <th>4</th>\n      <td>43.707193</td>\n      <td>-79.397946</td>\n      <td>FoodCourt</td>\n      <td>BubbleTea</td>\n      <td>Gym/Fitness</td>\n      <td>Gym</td>\n      <td>CoffeeShop</td>\n      <td>0.067961</td>\n    </tr>\n    <tr>\n      <th>5</th>\n      <td>43.702042</td>\n      <td>-79.395907</td>\n      <td>HistoricSite</td>\n      <td>GayBar</td>\n      <td>ComicShop</td>\n      <td>Men'sStore</td>\n      <td>Creperie</td>\n      <td>0.048544</td>\n    </tr>\n    <tr>\n      <th>6</th>\n      <td>43.705898</td>\n      <td>-79.389702</td>\n      <td>Indian</td>\n      <td>FastFood</td>\n      <td>SportingGoods</td>\n      <td>Sandwiches</td>\n      <td>IceCream</td>\n      <td>0.242718</td>\n    </tr>\n    <tr>\n      <th>7</th>\n      <td>43.700666</td>\n      <td>-79.397370</td>\n      <td>ScenicLookout</td>\n      <td>DogRun</td>\n      <td>Harbor/Marina</td>\n      <td>Garden</td>\n      <td>DanceStudio</td>\n      <td>0.009709</td>\n    </tr>\n    <tr>\n      <th>8</th>\n      <td>43.702853</td>\n      <td>-79.395950</td>\n      <td>Neighborhood</td>\n      <td>CandyStore</td>\n      <td>Bistro</td>\n      <td>WineBar</td>\n      <td>Salon/Barbershop</td>\n      <td>0.009709</td>\n    </tr>\n    <tr>\n      <th>9</th>\n      <td>43.708398</td>\n      <td>-79.375030</td>\n      <td>Playground</td>\n      <td>Burgers</td>\n      <td>Breakfast</td>\n      <td>Italian</td>\n      <td>Park</td>\n      <td>0.009709</td>\n    </tr>\n  </tbody>\n</table>\n</div>"
     },
     "metadata": {},
     "execution_count": 32
    }
   ],
   "source": [
    "clustered_grouped = clustered_df.groupby('cluster').count()\r\n",
    "print(clustered_grouped.head())\r\n",
    "total = clustered_grouped['location.lat'].sum()\r\n",
    "centroid_topN_df['scale'] = clustered_grouped['location.lat']/total\r\n",
    "centroid_topN_df"
   ]
  },
  {
   "cell_type": "code",
   "execution_count": 34,
   "metadata": {},
   "outputs": [],
   "source": [
    "import folium\n"
   ]
  },
  {
   "source": [
    "For further analysis, I would like to see the effect of not standardizing my data prior to k-means would be; since most of the data, save for coordinates, is between 0 and 1 (since the average of each category is taken for each neighborhood, and the categories are one-hot encoded so the max value of an averaged column for a neighborhood would be 1 -- corresponding to every venue in a neighborhood being in the same category)."
   ],
   "cell_type": "markdown",
   "metadata": {}
  }
 ]
}